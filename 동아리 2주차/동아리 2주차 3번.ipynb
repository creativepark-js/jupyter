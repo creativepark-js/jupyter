{
 "cells": [
  {
   "cell_type": "code",
   "execution_count": 6,
   "metadata": {},
   "outputs": [
    {
     "name": "stdout",
     "output_type": "stream",
     "text": [
      "두 자리 정수를 2개를 입력하시오 : 18,15\n",
      "18,15: 일의 자리 혹은 십의 자리 수가 일치함\n"
     ]
    }
   ],
   "source": [
    "n1,n2 = map(int,input(\"두 자리 정수를 2개를 입력하시오 : \").split(','))\n",
    "\n",
    "if n1 != n2 :\n",
    "    if n1//10 == n2//10 or n1%10 == n2%10:\n",
    "        print(f\"{n1},{n2}: 일의 자리 혹은 십의 자리 수가 일치함\")\n",
    "    elif n1//10 == n2%10 or n1%10 == n2//10:\n",
    "        print(f\"{n1},{n2}: 일치하는 숫자가 존재하나 두 수에서의 자리값이 서로 다름\")\n",
    "    else:\n",
    "        print(f\"{n1},{n2}: 일치하는 숫자가 없음\")\n",
    "else:\n",
    "    print(f\"{n1},{n2}: 두 수는 동일함\")"
   ]
  },
  {
   "cell_type": "code",
   "execution_count": null,
   "metadata": {},
   "outputs": [],
   "source": []
  }
 ],
 "metadata": {
  "kernelspec": {
   "display_name": "Python 3",
   "language": "python",
   "name": "python3"
  },
  "language_info": {
   "codemirror_mode": {
    "name": "ipython",
    "version": 3
   },
   "file_extension": ".py",
   "mimetype": "text/x-python",
   "name": "python",
   "nbconvert_exporter": "python",
   "pygments_lexer": "ipython3",
   "version": "3.8.5"
  },
  "toc": {
   "base_numbering": 1,
   "nav_menu": {},
   "number_sections": true,
   "sideBar": true,
   "skip_h1_title": false,
   "title_cell": "Table of Contents",
   "title_sidebar": "Contents",
   "toc_cell": false,
   "toc_position": {},
   "toc_section_display": true,
   "toc_window_display": false
  }
 },
 "nbformat": 4,
 "nbformat_minor": 4
}
