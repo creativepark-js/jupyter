{
 "cells": [
  {
   "cell_type": "code",
   "execution_count": 2,
   "metadata": {},
   "outputs": [
    {
     "name": "stdout",
     "output_type": "stream",
     "text": [
      "이름: 박재성\n",
      "학과: 경영학과\n",
      "학번: 201743198\n",
      "dict_keys(['이름', '학과', '학번'])\n",
      "dict_values(['박재성', '경영학과', 201743198])\n",
      "dict_items([('이름', '박재성'), ('학과', '경영학과'), ('학번', 201743198)])\n",
      "{'이름': '박재성', '학과': '경영학과', '학번': 201743198}\n"
     ]
    }
   ],
   "source": [
    "#5번 문제\n",
    "name = input(\"이름: \")\n",
    "major = input(\"학과: \")\n",
    "st_id = int(input(\"학번: \"))\n",
    "\n",
    "myself = dict(이름 = name , 학과 = major , 학번 = st_id)\n",
    "\n",
    "##5.1번\n",
    "\n",
    "quiz1 = myself.keys()\n",
    "print(quiz1)\n",
    "\n",
    "##5.2번\n",
    "\n",
    "quiz2 = myself.values()\n",
    "print(quiz2)\n",
    "\n",
    "##5.3번\n",
    "\n",
    "quiz3 = myself.items()\n",
    "print(quiz3)\n",
    "\n",
    "##5.4번\n",
    "\n",
    "my_self = dict(zip(quiz1,quiz2))\n",
    "print(my_self)\n"
   ]
  },
  {
   "cell_type": "code",
   "execution_count": null,
   "metadata": {},
   "outputs": [],
   "source": []
  }
 ],
 "metadata": {
  "kernelspec": {
   "display_name": "Python 3",
   "language": "python",
   "name": "python3"
  },
  "language_info": {
   "codemirror_mode": {
    "name": "ipython",
    "version": 3
   },
   "file_extension": ".py",
   "mimetype": "text/x-python",
   "name": "python",
   "nbconvert_exporter": "python",
   "pygments_lexer": "ipython3",
   "version": "3.8.5"
  },
  "toc": {
   "base_numbering": 1,
   "nav_menu": {},
   "number_sections": true,
   "sideBar": true,
   "skip_h1_title": false,
   "title_cell": "Table of Contents",
   "title_sidebar": "Contents",
   "toc_cell": false,
   "toc_position": {},
   "toc_section_display": true,
   "toc_window_display": false
  }
 },
 "nbformat": 4,
 "nbformat_minor": 4
}
