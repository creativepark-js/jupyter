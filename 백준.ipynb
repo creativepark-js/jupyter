{
 "cells": [
  {
   "cell_type": "code",
   "execution_count": 4,
   "metadata": {},
   "outputs": [
    {
     "name": "stdout",
     "output_type": "stream",
     "text": [
      "5\n",
      "20 10 35 30 7\n",
      "7 35\n"
     ]
    }
   ],
   "source": [
    "# 1차원 배열 최소,최대\n",
    "\n",
    "a = int(input())\n",
    "b = list(map(int,input().split()))\n",
    "\n",
    "print(min(b),max(b),sep = \" \")\n",
    "\n",
    "# 최대값 위치 찾기\n",
    "\n"
   ]
  },
  {
   "cell_type": "code",
   "execution_count": 7,
   "metadata": {},
   "outputs": [
    {
     "name": "stdout",
     "output_type": "stream",
     "text": [
      "3\n",
      "29\n",
      "38\n",
      "12\n",
      "57\n",
      "74\n",
      "40\n",
      "85\n",
      "61\n",
      "85\n",
      "8\n"
     ]
    }
   ],
   "source": [
    "a = []\n",
    "for i in range(9):\n",
    "    a.append(int(input()))\n",
    "    \n",
    "max_a = max(a)\n",
    "index_a = a.index(max_a)+1\n",
    "print(max_a)\n",
    "print(index_a)"
   ]
  },
  {
   "cell_type": "code",
   "execution_count": 7,
   "metadata": {},
   "outputs": [
    {
     "name": "stdout",
     "output_type": "stream",
     "text": [
      "150\n",
      "266\n",
      "427\n",
      "17037300\n",
      "3\n",
      "1\n",
      "0\n",
      "2\n",
      "0\n",
      "0\n",
      "0\n",
      "2\n",
      "0\n",
      "0\n"
     ]
    }
   ],
   "source": [
    "a = int(input())\n",
    "b = int(input())\n",
    "c = int(input())\n",
    "\n",
    "multiply = str(a*b*c)\n",
    "count = 0\n",
    "for i in range(10):\n",
    "    str_i = str(i)\n",
    "    count = multiply.count(str_i)\n",
    "    print(count)"
   ]
  },
  {
   "cell_type": "code",
   "execution_count": 20,
   "metadata": {},
   "outputs": [
    {
     "name": "stdout",
     "output_type": "stream",
     "text": [
      "5\n",
      "1 2 4 8 16\n",
      "38.75\n"
     ]
    }
   ],
   "source": [
    "#1546\n",
    "a = int(input())\n",
    "b = list(map(int,input().split()))\n",
    "b_2 = []\n",
    "for i in b:\n",
    "    b_2.append(i/max(b)*100)\n",
    "\n",
    "print(sum(b_2)/len(b_2))"
   ]
  },
  {
   "cell_type": "code",
   "execution_count": 36,
   "metadata": {},
   "outputs": [
    {
     "name": "stdout",
     "output_type": "stream",
     "text": [
      "5\n",
      "OOXOO\n",
      "3\n",
      "6\n",
      "\n",
      "0\n",
      "0\n",
      "1\n",
      "0\n",
      "1\n",
      "0\n",
      "1\n"
     ]
    }
   ],
   "source": [
    "#8958\n",
    "g = int(input())\n",
    "\n",
    "while True:\n",
    "    g -= 1\n",
    "    score = 0\n",
    "    result = []\n",
    "    a = input()\n",
    "    result.append(a)\n",
    "    x = result[0]\n",
    "    x_list = x.split('X')\n",
    "    x_len = len(x_list)\n",
    "    for i in range(0,x_len):\n",
    "        number = x_list[i]\n",
    "        for j in range(1,len(number)+1):\n",
    "            score += j\n",
    "    print(score)\n",
    "    if g == 0 : break"
   ]
  },
  {
   "cell_type": "code",
   "execution_count": 5,
   "metadata": {},
   "outputs": [
    {
     "name": "stdout",
     "output_type": "stream",
     "text": [
      "1\n",
      "1 0\n",
      "0.000%\n"
     ]
    }
   ],
   "source": [
    "#4344\n",
    "\n",
    "n = int(input())\n",
    "\n",
    "while True :\n",
    "    n -= 1\n",
    "    num_score = list(map(int,input().split()))\n",
    "    over_student = 0\n",
    "\n",
    "    num_student = num_score[0]\n",
    "    mean_score = sum(num_score[1:])/num_student\n",
    "\n",
    "    for i in num_score[1:]:\n",
    "        if i > mean_score :\n",
    "            over_student += 1\n",
    "    print(\"%0.3f%%\"%(over_student/num_student*100))\n",
    "    if n == 0 : break\n",
    "    "
   ]
  },
  {
   "cell_type": "code",
   "execution_count": null,
   "metadata": {},
   "outputs": [],
   "source": []
  }
 ],
 "metadata": {
  "kernelspec": {
   "display_name": "Python 3",
   "language": "python",
   "name": "python3"
  },
  "language_info": {
   "codemirror_mode": {
    "name": "ipython",
    "version": 3
   },
   "file_extension": ".py",
   "mimetype": "text/x-python",
   "name": "python",
   "nbconvert_exporter": "python",
   "pygments_lexer": "ipython3",
   "version": "3.8.5"
  },
  "toc": {
   "base_numbering": 1,
   "nav_menu": {},
   "number_sections": true,
   "sideBar": true,
   "skip_h1_title": false,
   "title_cell": "Table of Contents",
   "title_sidebar": "Contents",
   "toc_cell": false,
   "toc_position": {},
   "toc_section_display": true,
   "toc_window_display": false
  }
 },
 "nbformat": 4,
 "nbformat_minor": 4
}
