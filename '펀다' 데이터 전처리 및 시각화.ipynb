{
 "cells": [
  {
   "cell_type": "code",
   "execution_count": 367,
   "metadata": {},
   "outputs": [],
   "source": [
    "import numpy as np\n",
    "import pandas as pd\n",
    "import seaborn as sns\n",
    "from matplotlib import pyplot as plt\n",
    "import datetime as dt\n",
    "from tqdm import tqdm"
   ]
  },
  {
   "cell_type": "code",
   "execution_count": 368,
   "metadata": {},
   "outputs": [],
   "source": [
    "import matplotlib # 글자 깨짐 방지 폰트설정\n",
    "from matplotlib import font_manager, rc\n",
    "import platform\n",
    "\n",
    "if platform.system() == 'Windows':\n",
    "# 윈도우인 경우\n",
    "    font_name = font_manager.FontProperties(fname=\"c:/Windows/Fonts/malgun.ttf\").get_name()\n",
    "    rc('font', family=font_name)\n",
    "else:    \n",
    "# Mac 인 경우\n",
    "    rc('font', family='AppleGothic')\n",
    "    \n",
    "matplotlib.rcParams['axes.unicode_minus'] = False   \n",
    "#그래프에서 마이너스 기호가 표시되도록 하는 설정입니다."
   ]
  },
  {
   "cell_type": "code",
   "execution_count": 369,
   "metadata": {},
   "outputs": [],
   "source": [
    "df = pd.read_csv(\"d:/IBA 동아리/data/funda_train.csv\")"
   ]
  },
  {
   "cell_type": "markdown",
   "metadata": {},
   "source": [
    "## 데이터\n",
    "\n",
    "1. store_id - 상점의 고유 아이디\n",
    "2. card_id - 사용한 카드의 고유 아이디(고객 id)\n",
    "3. card_company - 비식별화된 카드 회사(카드 회사 id)\n",
    "4. trasacted_date - 거래 날짜\n",
    "5. trasacted_time - 거래 시간(시:분)\n",
    "6. installment_term - 할부 개월 수\n",
    "7. region - 상점의 지역\n",
    "8. type_of_business - 상점의 업종\n",
    "9. amount - 거래액"
   ]
  },
  {
   "cell_type": "code",
   "execution_count": 370,
   "metadata": {
    "scrolled": false
   },
   "outputs": [
    {
     "data": {
      "text/html": [
       "<div>\n",
       "<style scoped>\n",
       "    .dataframe tbody tr th:only-of-type {\n",
       "        vertical-align: middle;\n",
       "    }\n",
       "\n",
       "    .dataframe tbody tr th {\n",
       "        vertical-align: top;\n",
       "    }\n",
       "\n",
       "    .dataframe thead th {\n",
       "        text-align: right;\n",
       "    }\n",
       "</style>\n",
       "<table border=\"1\" class=\"dataframe\">\n",
       "  <thead>\n",
       "    <tr style=\"text-align: right;\">\n",
       "      <th></th>\n",
       "      <th>store_id</th>\n",
       "      <th>card_id</th>\n",
       "      <th>card_company</th>\n",
       "      <th>transacted_date</th>\n",
       "      <th>transacted_time</th>\n",
       "      <th>installment_term</th>\n",
       "      <th>region</th>\n",
       "      <th>type_of_business</th>\n",
       "      <th>amount</th>\n",
       "    </tr>\n",
       "  </thead>\n",
       "  <tbody>\n",
       "    <tr>\n",
       "      <th>0</th>\n",
       "      <td>0</td>\n",
       "      <td>0</td>\n",
       "      <td>b</td>\n",
       "      <td>2016-06-01</td>\n",
       "      <td>13:13</td>\n",
       "      <td>0</td>\n",
       "      <td>NaN</td>\n",
       "      <td>기타 미용업</td>\n",
       "      <td>1857.142857</td>\n",
       "    </tr>\n",
       "    <tr>\n",
       "      <th>1</th>\n",
       "      <td>0</td>\n",
       "      <td>1</td>\n",
       "      <td>h</td>\n",
       "      <td>2016-06-01</td>\n",
       "      <td>18:12</td>\n",
       "      <td>0</td>\n",
       "      <td>NaN</td>\n",
       "      <td>기타 미용업</td>\n",
       "      <td>857.142857</td>\n",
       "    </tr>\n",
       "    <tr>\n",
       "      <th>2</th>\n",
       "      <td>0</td>\n",
       "      <td>2</td>\n",
       "      <td>c</td>\n",
       "      <td>2016-06-01</td>\n",
       "      <td>18:52</td>\n",
       "      <td>0</td>\n",
       "      <td>NaN</td>\n",
       "      <td>기타 미용업</td>\n",
       "      <td>2000.000000</td>\n",
       "    </tr>\n",
       "    <tr>\n",
       "      <th>3</th>\n",
       "      <td>0</td>\n",
       "      <td>3</td>\n",
       "      <td>a</td>\n",
       "      <td>2016-06-01</td>\n",
       "      <td>20:22</td>\n",
       "      <td>0</td>\n",
       "      <td>NaN</td>\n",
       "      <td>기타 미용업</td>\n",
       "      <td>7857.142857</td>\n",
       "    </tr>\n",
       "    <tr>\n",
       "      <th>4</th>\n",
       "      <td>0</td>\n",
       "      <td>4</td>\n",
       "      <td>c</td>\n",
       "      <td>2016-06-02</td>\n",
       "      <td>11:06</td>\n",
       "      <td>0</td>\n",
       "      <td>NaN</td>\n",
       "      <td>기타 미용업</td>\n",
       "      <td>2000.000000</td>\n",
       "    </tr>\n",
       "  </tbody>\n",
       "</table>\n",
       "</div>"
      ],
      "text/plain": [
       "   store_id  card_id card_company transacted_date transacted_time  \\\n",
       "0         0        0            b      2016-06-01           13:13   \n",
       "1         0        1            h      2016-06-01           18:12   \n",
       "2         0        2            c      2016-06-01           18:52   \n",
       "3         0        3            a      2016-06-01           20:22   \n",
       "4         0        4            c      2016-06-02           11:06   \n",
       "\n",
       "   installment_term region type_of_business       amount  \n",
       "0                 0    NaN           기타 미용업  1857.142857  \n",
       "1                 0    NaN           기타 미용업   857.142857  \n",
       "2                 0    NaN           기타 미용업  2000.000000  \n",
       "3                 0    NaN           기타 미용업  7857.142857  \n",
       "4                 0    NaN           기타 미용업  2000.000000  "
      ]
     },
     "execution_count": 370,
     "metadata": {},
     "output_type": "execute_result"
    }
   ],
   "source": [
    "df.head()"
   ]
  },
  {
   "cell_type": "code",
   "execution_count": 371,
   "metadata": {
    "scrolled": true
   },
   "outputs": [
    {
     "data": {
      "text/plain": [
       "a    1828556\n",
       "b    1119323\n",
       "c    1037085\n",
       "d     774435\n",
       "e     555645\n",
       "f     525510\n",
       "g     438877\n",
       "h     277182\n",
       "Name: card_company, dtype: int64"
      ]
     },
     "execution_count": 371,
     "metadata": {},
     "output_type": "execute_result"
    }
   ],
   "source": [
    "df['card_company'].value_counts()"
   ]
  },
  {
   "cell_type": "code",
   "execution_count": 372,
   "metadata": {
    "scrolled": true
   },
   "outputs": [
    {
     "data": {
      "image/png": "[encoded data removed]",
      "text/plain": [
       "<Figure size 720x360 with 1 Axes>"
      ]
     },
     "metadata": {},
     "output_type": "display_data"
    }
   ],
   "source": [
    "## 카드회사별 차지 비중 \n",
    "plt.figure(figsize = (10,5))\n",
    "df['card_company'].value_counts().plot.pie(autopct = '%.2f%%')\n",
    "plt.show()"
   ]
  },
  {
   "cell_type": "code",
   "execution_count": 373,
   "metadata": {
    "scrolled": true
   },
   "outputs": [
    {
     "data": {
      "text/plain": [
       "<AxesSubplot:xlabel='card_company'>"
      ]
     },
     "execution_count": 373,
     "metadata": {},
     "output_type": "execute_result"
    },
    {
     "data": {
      "image/png": "[encoded data removed]",
      "text/plain": [
       "<Figure size 432x288 with 1 Axes>"
      ]
     },
     "metadata": {
      "needs_background": "light"
     },
     "output_type": "display_data"
    }
   ],
   "source": [
    "## 카드회사별 총 결제액 비중\n",
    "df_card = df.groupby('card_company').sum()['amount'].sort_values(ascending = False)\n",
    "df_card.plot.bar()"
   ]
  },
  {
   "cell_type": "code",
   "execution_count": 374,
   "metadata": {
    "scrolled": true
   },
   "outputs": [
    {
     "name": "stdout",
     "output_type": "stream",
     "text": [
      "<class 'pandas.core.frame.DataFrame'>\n",
      "RangeIndex: 6556613 entries, 0 to 6556612\n",
      "Data columns (total 9 columns):\n",
      " #   Column            Dtype  \n",
      "---  ------            -----  \n",
      " 0   store_id          int64  \n",
      " 1   card_id           int64  \n",
      " 2   card_company      object \n",
      " 3   transacted_date   object \n",
      " 4   transacted_time   object \n",
      " 5   installment_term  int64  \n",
      " 6   region            object \n",
      " 7   type_of_business  object \n",
      " 8   amount            float64\n",
      "dtypes: float64(1), int64(3), object(5)\n",
      "memory usage: 450.2+ MB\n"
     ]
    }
   ],
   "source": [
    "df.info()"
   ]
  },
  {
   "cell_type": "code",
   "execution_count": 375,
   "metadata": {},
   "outputs": [
    {
     "data": {
      "text/plain": [
       "store_id                  0\n",
       "card_id                   0\n",
       "card_company              0\n",
       "transacted_date           0\n",
       "transacted_time           0\n",
       "installment_term          0\n",
       "region              2042766\n",
       "type_of_business    3952609\n",
       "amount                    0\n",
       "dtype: int64"
      ]
     },
     "execution_count": 375,
     "metadata": {},
     "output_type": "execute_result"
    }
   ],
   "source": [
    "df.isnull().sum()"
   ]
  },
  {
   "cell_type": "code",
   "execution_count": 376,
   "metadata": {
    "scrolled": true
   },
   "outputs": [
    {
     "data": {
      "text/html": [
       "<div>\n",
       "<style scoped>\n",
       "    .dataframe tbody tr th:only-of-type {\n",
       "        vertical-align: middle;\n",
       "    }\n",
       "\n",
       "    .dataframe tbody tr th {\n",
       "        vertical-align: top;\n",
       "    }\n",
       "\n",
       "    .dataframe thead th {\n",
       "        text-align: right;\n",
       "    }\n",
       "</style>\n",
       "<table border=\"1\" class=\"dataframe\">\n",
       "  <thead>\n",
       "    <tr style=\"text-align: right;\">\n",
       "      <th></th>\n",
       "      <th>store_id</th>\n",
       "      <th>card_id</th>\n",
       "      <th>installment_term</th>\n",
       "      <th>amount</th>\n",
       "    </tr>\n",
       "  </thead>\n",
       "  <tbody>\n",
       "    <tr>\n",
       "      <th>count</th>\n",
       "      <td>6.556613e+06</td>\n",
       "      <td>6.556613e+06</td>\n",
       "      <td>6.556613e+06</td>\n",
       "      <td>6.556613e+06</td>\n",
       "    </tr>\n",
       "    <tr>\n",
       "      <th>mean</th>\n",
       "      <td>1.084930e+03</td>\n",
       "      <td>2.268127e+06</td>\n",
       "      <td>1.382017e-01</td>\n",
       "      <td>1.043511e+04</td>\n",
       "    </tr>\n",
       "    <tr>\n",
       "      <th>std</th>\n",
       "      <td>6.152183e+02</td>\n",
       "      <td>1.351058e+06</td>\n",
       "      <td>1.188152e+00</td>\n",
       "      <td>3.104031e+04</td>\n",
       "    </tr>\n",
       "    <tr>\n",
       "      <th>min</th>\n",
       "      <td>0.000000e+00</td>\n",
       "      <td>0.000000e+00</td>\n",
       "      <td>0.000000e+00</td>\n",
       "      <td>-2.771429e+06</td>\n",
       "    </tr>\n",
       "    <tr>\n",
       "      <th>25%</th>\n",
       "      <td>5.860000e+02</td>\n",
       "      <td>1.088828e+06</td>\n",
       "      <td>0.000000e+00</td>\n",
       "      <td>2.142857e+03</td>\n",
       "    </tr>\n",
       "    <tr>\n",
       "      <th>50%</th>\n",
       "      <td>1.074000e+03</td>\n",
       "      <td>2.239304e+06</td>\n",
       "      <td>0.000000e+00</td>\n",
       "      <td>4.285714e+03</td>\n",
       "    </tr>\n",
       "    <tr>\n",
       "      <th>75%</th>\n",
       "      <td>1.615000e+03</td>\n",
       "      <td>3.438488e+06</td>\n",
       "      <td>0.000000e+00</td>\n",
       "      <td>8.571429e+03</td>\n",
       "    </tr>\n",
       "    <tr>\n",
       "      <th>max</th>\n",
       "      <td>2.136000e+03</td>\n",
       "      <td>4.663856e+06</td>\n",
       "      <td>9.300000e+01</td>\n",
       "      <td>5.571429e+06</td>\n",
       "    </tr>\n",
       "  </tbody>\n",
       "</table>\n",
       "</div>"
      ],
      "text/plain": [
       "           store_id       card_id  installment_term        amount\n",
       "count  6.556613e+06  6.556613e+06      6.556613e+06  6.556613e+06\n",
       "mean   1.084930e+03  2.268127e+06      1.382017e-01  1.043511e+04\n",
       "std    6.152183e+02  1.351058e+06      1.188152e+00  3.104031e+04\n",
       "min    0.000000e+00  0.000000e+00      0.000000e+00 -2.771429e+06\n",
       "25%    5.860000e+02  1.088828e+06      0.000000e+00  2.142857e+03\n",
       "50%    1.074000e+03  2.239304e+06      0.000000e+00  4.285714e+03\n",
       "75%    1.615000e+03  3.438488e+06      0.000000e+00  8.571429e+03\n",
       "max    2.136000e+03  4.663856e+06      9.300000e+01  5.571429e+06"
      ]
     },
     "execution_count": 376,
     "metadata": {},
     "output_type": "execute_result"
    }
   ],
   "source": [
    "df.describe()"
   ]
  },
  {
   "cell_type": "code",
   "execution_count": 377,
   "metadata": {
    "scrolled": false
   },
   "outputs": [
    {
     "name": "stdout",
     "output_type": "stream",
     "text": [
      "<class 'pandas.core.frame.DataFrame'>\n",
      "RangeIndex: 6556613 entries, 0 to 6556612\n",
      "Data columns (total 9 columns):\n",
      " #   Column            Dtype  \n",
      "---  ------            -----  \n",
      " 0   store_id          int64  \n",
      " 1   card_id           int64  \n",
      " 2   card_company      object \n",
      " 3   transacted_date   object \n",
      " 4   transacted_time   object \n",
      " 5   installment_term  int64  \n",
      " 6   region            object \n",
      " 7   type_of_business  object \n",
      " 8   amount            float64\n",
      "dtypes: float64(1), int64(3), object(5)\n",
      "memory usage: 450.2+ MB\n"
     ]
    }
   ],
   "source": [
    "df.info()"
   ]
  },
  {
   "cell_type": "code",
   "execution_count": 378,
   "metadata": {
    "scrolled": false
   },
   "outputs": [
    {
     "data": {
      "text/html": [
       "<div>\n",
       "<style scoped>\n",
       "    .dataframe tbody tr th:only-of-type {\n",
       "        vertical-align: middle;\n",
       "    }\n",
       "\n",
       "    .dataframe tbody tr th {\n",
       "        vertical-align: top;\n",
       "    }\n",
       "\n",
       "    .dataframe thead th {\n",
       "        text-align: right;\n",
       "    }\n",
       "</style>\n",
       "<table border=\"1\" class=\"dataframe\">\n",
       "  <thead>\n",
       "    <tr style=\"text-align: right;\">\n",
       "      <th></th>\n",
       "      <th>amount</th>\n",
       "    </tr>\n",
       "    <tr>\n",
       "      <th>type_of_business</th>\n",
       "      <th></th>\n",
       "    </tr>\n",
       "  </thead>\n",
       "  <tbody>\n",
       "    <tr>\n",
       "      <th>의약품 도매업</th>\n",
       "      <td>354632.638674</td>\n",
       "    </tr>\n",
       "    <tr>\n",
       "      <th>기타 산업용 농산물 도매업</th>\n",
       "      <td>276625.139388</td>\n",
       "    </tr>\n",
       "    <tr>\n",
       "      <th>경영 컨설팅업</th>\n",
       "      <td>150819.538148</td>\n",
       "    </tr>\n",
       "    <tr>\n",
       "      <th>일반 병원</th>\n",
       "      <td>135287.727565</td>\n",
       "    </tr>\n",
       "    <tr>\n",
       "      <th>주방용품 및 가정용 유리, 요업 제품 소매업</th>\n",
       "      <td>95901.011149</td>\n",
       "    </tr>\n",
       "    <tr>\n",
       "      <th>...</th>\n",
       "      <td>...</td>\n",
       "    </tr>\n",
       "    <tr>\n",
       "      <th>비알코올 음료점업</th>\n",
       "      <td>1970.210406</td>\n",
       "    </tr>\n",
       "    <tr>\n",
       "      <th>떡류 제조업</th>\n",
       "      <td>1825.979464</td>\n",
       "    </tr>\n",
       "    <tr>\n",
       "      <th>체인화 편의점</th>\n",
       "      <td>1593.218107</td>\n",
       "    </tr>\n",
       "    <tr>\n",
       "      <th>일반 의원</th>\n",
       "      <td>1406.982724</td>\n",
       "    </tr>\n",
       "    <tr>\n",
       "      <th>제과점업</th>\n",
       "      <td>913.737800</td>\n",
       "    </tr>\n",
       "  </tbody>\n",
       "</table>\n",
       "<p>145 rows × 1 columns</p>\n",
       "</div>"
      ],
      "text/plain": [
       "                                 amount\n",
       "type_of_business                       \n",
       "의약품 도매업                   354632.638674\n",
       "기타 산업용 농산물 도매업            276625.139388\n",
       "경영 컨설팅업                   150819.538148\n",
       "일반 병원                     135287.727565\n",
       "주방용품 및 가정용 유리, 요업 제품 소매업   95901.011149\n",
       "...                                 ...\n",
       "비알코올 음료점업                   1970.210406\n",
       "떡류 제조업                      1825.979464\n",
       "체인화 편의점                     1593.218107\n",
       "일반 의원                       1406.982724\n",
       "제과점업                         913.737800\n",
       "\n",
       "[145 rows x 1 columns]"
      ]
     },
     "execution_count": 378,
     "metadata": {},
     "output_type": "execute_result"
    }
   ],
   "source": [
    "business = df[['type_of_business','amount']].groupby('type_of_business').mean().sort_values(by = 'amount',ascending = False)\n",
    "business"
   ]
  },
  {
   "cell_type": "markdown",
   "metadata": {},
   "source": [
    "- 평균 매출액 상하위 5개 직종"
   ]
  },
  {
   "cell_type": "code",
   "execution_count": 379,
   "metadata": {
    "scrolled": false
   },
   "outputs": [
    {
     "data": {
      "text/html": [
       "<div>\n",
       "<style scoped>\n",
       "    .dataframe tbody tr th:only-of-type {\n",
       "        vertical-align: middle;\n",
       "    }\n",
       "\n",
       "    .dataframe tbody tr th {\n",
       "        vertical-align: top;\n",
       "    }\n",
       "\n",
       "    .dataframe thead th {\n",
       "        text-align: right;\n",
       "    }\n",
       "</style>\n",
       "<table border=\"1\" class=\"dataframe\">\n",
       "  <thead>\n",
       "    <tr style=\"text-align: right;\">\n",
       "      <th></th>\n",
       "      <th>amount</th>\n",
       "    </tr>\n",
       "    <tr>\n",
       "      <th>type_of_business</th>\n",
       "      <th></th>\n",
       "    </tr>\n",
       "  </thead>\n",
       "  <tbody>\n",
       "    <tr>\n",
       "      <th>한식 음식점업</th>\n",
       "      <td>4.810450e+09</td>\n",
       "    </tr>\n",
       "    <tr>\n",
       "      <th>의복 소매업</th>\n",
       "      <td>2.403674e+09</td>\n",
       "    </tr>\n",
       "    <tr>\n",
       "      <th>의약품 도매업</th>\n",
       "      <td>1.568540e+09</td>\n",
       "    </tr>\n",
       "    <tr>\n",
       "      <th>일반 교과 학원</th>\n",
       "      <td>1.293611e+09</td>\n",
       "    </tr>\n",
       "    <tr>\n",
       "      <th>두발 미용업</th>\n",
       "      <td>1.087475e+09</td>\n",
       "    </tr>\n",
       "    <tr>\n",
       "      <th>...</th>\n",
       "      <td>...</td>\n",
       "    </tr>\n",
       "    <tr>\n",
       "      <th>예술품 및 골동품 소매업</th>\n",
       "      <td>3.172929e+06</td>\n",
       "    </tr>\n",
       "    <tr>\n",
       "      <th>채소, 과실 및 뿌리작물 소매업</th>\n",
       "      <td>2.532857e+06</td>\n",
       "    </tr>\n",
       "    <tr>\n",
       "      <th>곡물 및 기타 식량작물 재배업</th>\n",
       "      <td>1.972814e+06</td>\n",
       "    </tr>\n",
       "    <tr>\n",
       "      <th>배전반 및 전기 자동제어반 제조업</th>\n",
       "      <td>1.635599e+06</td>\n",
       "    </tr>\n",
       "    <tr>\n",
       "      <th>신선식품 및 단순 가공식품 도매업</th>\n",
       "      <td>5.063271e+05</td>\n",
       "    </tr>\n",
       "  </tbody>\n",
       "</table>\n",
       "<p>145 rows × 1 columns</p>\n",
       "</div>"
      ],
      "text/plain": [
       "                          amount\n",
       "type_of_business                \n",
       "한식 음식점업             4.810450e+09\n",
       "의복 소매업              2.403674e+09\n",
       "의약품 도매업             1.568540e+09\n",
       "일반 교과 학원            1.293611e+09\n",
       "두발 미용업              1.087475e+09\n",
       "...                          ...\n",
       "예술품 및 골동품 소매업       3.172929e+06\n",
       "채소, 과실 및 뿌리작물 소매업   2.532857e+06\n",
       "곡물 및 기타 식량작물 재배업    1.972814e+06\n",
       "배전반 및 전기 자동제어반 제조업  1.635599e+06\n",
       "신선식품 및 단순 가공식품 도매업  5.063271e+05\n",
       "\n",
       "[145 rows x 1 columns]"
      ]
     },
     "execution_count": 379,
     "metadata": {},
     "output_type": "execute_result"
    }
   ],
   "source": [
    "df[['type_of_business','amount']].groupby('type_of_business').sum().sort_values(by = 'amount',ascending = False)\n"
   ]
  },
  {
   "cell_type": "code",
   "execution_count": 380,
   "metadata": {
    "scrolled": false
   },
   "outputs": [
    {
     "data": {
      "text/plain": [
       "<AxesSubplot:>"
      ]
     },
     "execution_count": 380,
     "metadata": {},
     "output_type": "execute_result"
    },
    {
     "data": {
      "image/png": "[encoded data removed]",
      "text/plain": [
       "<Figure size 432x288 with 1 Axes>"
      ]
     },
     "metadata": {
      "needs_background": "light"
     },
     "output_type": "display_data"
    }
   ],
   "source": [
    "business.plot.box()"
   ]
  },
  {
   "cell_type": "markdown",
   "metadata": {},
   "source": [
    "- 업종에 따른 평균 결제액의 차이가 있다"
   ]
  },
  {
   "cell_type": "code",
   "execution_count": 381,
   "metadata": {
    "scrolled": false
   },
   "outputs": [
    {
     "data": {
      "text/plain": [
       "<AxesSubplot:xlabel='type_of_business'>"
      ]
     },
     "execution_count": 381,
     "metadata": {},
     "output_type": "execute_result"
    },
    {
     "data": {
      "image/png": "[encoded data removed]",
      "text/plain": [
       "<Figure size 432x288 with 1 Axes>"
      ]
     },
     "metadata": {
      "needs_background": "light"
     },
     "output_type": "display_data"
    }
   ],
   "source": [
    "business.iloc[[0,1,2,-3,-2,-1]].plot.bar()"
   ]
  },
  {
   "cell_type": "markdown",
   "metadata": {},
   "source": [
    "- 총 매출액 상하위 5개 직종"
   ]
  },
  {
   "cell_type": "code",
   "execution_count": 382,
   "metadata": {
    "scrolled": true
   },
   "outputs": [
    {
     "data": {
      "text/html": [
       "<div>\n",
       "<style scoped>\n",
       "    .dataframe tbody tr th:only-of-type {\n",
       "        vertical-align: middle;\n",
       "    }\n",
       "\n",
       "    .dataframe tbody tr th {\n",
       "        vertical-align: top;\n",
       "    }\n",
       "\n",
       "    .dataframe thead th {\n",
       "        text-align: right;\n",
       "    }\n",
       "</style>\n",
       "<table border=\"1\" class=\"dataframe\">\n",
       "  <thead>\n",
       "    <tr style=\"text-align: right;\">\n",
       "      <th></th>\n",
       "      <th>installment_term</th>\n",
       "    </tr>\n",
       "    <tr>\n",
       "      <th>type_of_business</th>\n",
       "      <th></th>\n",
       "    </tr>\n",
       "  </thead>\n",
       "  <tbody>\n",
       "    <tr>\n",
       "      <th>주방용품 및 가정용 유리, 요업 제품 소매업</th>\n",
       "      <td>3.794918</td>\n",
       "    </tr>\n",
       "    <tr>\n",
       "      <th>의료용품 도매업</th>\n",
       "      <td>2.951256</td>\n",
       "    </tr>\n",
       "    <tr>\n",
       "      <th>기타 자동차 신품 부품 및 내장품 판매업</th>\n",
       "      <td>2.303795</td>\n",
       "    </tr>\n",
       "    <tr>\n",
       "      <th>그 외 기타 무점포 소매업</th>\n",
       "      <td>2.189600</td>\n",
       "    </tr>\n",
       "    <tr>\n",
       "      <th>가구 소매업</th>\n",
       "      <td>1.733131</td>\n",
       "    </tr>\n",
       "    <tr>\n",
       "      <th>...</th>\n",
       "      <td>...</td>\n",
       "    </tr>\n",
       "    <tr>\n",
       "      <th>일반 의원</th>\n",
       "      <td>0.000000</td>\n",
       "    </tr>\n",
       "    <tr>\n",
       "      <th>체인화 편의점</th>\n",
       "      <td>0.000000</td>\n",
       "    </tr>\n",
       "    <tr>\n",
       "      <th>문구용품 및 회화용품 소매업</th>\n",
       "      <td>0.000000</td>\n",
       "    </tr>\n",
       "    <tr>\n",
       "      <th>문구용품, 회화용품, 사무용품·· 도매업</th>\n",
       "      <td>0.000000</td>\n",
       "    </tr>\n",
       "    <tr>\n",
       "      <th>그 외 기타 나무제품 제조업</th>\n",
       "      <td>0.000000</td>\n",
       "    </tr>\n",
       "  </tbody>\n",
       "</table>\n",
       "<p>145 rows × 1 columns</p>\n",
       "</div>"
      ],
      "text/plain": [
       "                          installment_term\n",
       "type_of_business                          \n",
       "주방용품 및 가정용 유리, 요업 제품 소매업          3.794918\n",
       "의료용품 도매업                          2.951256\n",
       "기타 자동차 신품 부품 및 내장품 판매업            2.303795\n",
       "그 외 기타 무점포 소매업                    2.189600\n",
       "가구 소매업                            1.733131\n",
       "...                                    ...\n",
       "일반 의원                             0.000000\n",
       "체인화 편의점                           0.000000\n",
       "문구용품 및 회화용품 소매업                   0.000000\n",
       "문구용품, 회화용품, 사무용품·· 도매업            0.000000\n",
       "그 외 기타 나무제품 제조업                   0.000000\n",
       "\n",
       "[145 rows x 1 columns]"
      ]
     },
     "execution_count": 382,
     "metadata": {},
     "output_type": "execute_result"
    }
   ],
   "source": [
    "business2 = df[['type_of_business','installment_term']].groupby('type_of_business').mean()\n",
    "business2.sort_values(by = 'installment_term',ascending = False)"
   ]
  },
  {
   "cell_type": "code",
   "execution_count": 383,
   "metadata": {
    "scrolled": false
   },
   "outputs": [
    {
     "data": {
      "text/plain": [
       "<AxesSubplot:>"
      ]
     },
     "execution_count": 383,
     "metadata": {},
     "output_type": "execute_result"
    },
    {
     "data": {
      "image/png": "[encoded data removed]",
      "text/plain": [
       "<Figure size 432x288 with 1 Axes>"
      ]
     },
     "metadata": {
      "needs_background": "light"
     },
     "output_type": "display_data"
    }
   ],
   "source": [
    "region = df[['region','amount']].groupby('region').mean()\n",
    "region = region.sort_values(by = 'amount',ascending = False)\n",
    "region.plot.box()"
   ]
  },
  {
   "cell_type": "markdown",
   "metadata": {},
   "source": [
    "- 지역별로 평균 결제액이 차이가 있다"
   ]
  },
  {
   "cell_type": "code",
   "execution_count": 384,
   "metadata": {
    "scrolled": false
   },
   "outputs": [
    {
     "data": {
      "text/html": [
       "<div>\n",
       "<style scoped>\n",
       "    .dataframe tbody tr th:only-of-type {\n",
       "        vertical-align: middle;\n",
       "    }\n",
       "\n",
       "    .dataframe tbody tr th {\n",
       "        vertical-align: top;\n",
       "    }\n",
       "\n",
       "    .dataframe thead th {\n",
       "        text-align: right;\n",
       "    }\n",
       "</style>\n",
       "<table border=\"1\" class=\"dataframe\">\n",
       "  <thead>\n",
       "    <tr style=\"text-align: right;\">\n",
       "      <th></th>\n",
       "      <th>installment_term</th>\n",
       "    </tr>\n",
       "    <tr>\n",
       "      <th>region</th>\n",
       "      <th></th>\n",
       "    </tr>\n",
       "  </thead>\n",
       "  <tbody>\n",
       "    <tr>\n",
       "      <th>충북 옥천군</th>\n",
       "      <td>2.123711</td>\n",
       "    </tr>\n",
       "    <tr>\n",
       "      <th>전남 완도군</th>\n",
       "      <td>2.046990</td>\n",
       "    </tr>\n",
       "    <tr>\n",
       "      <th>경기 과천시</th>\n",
       "      <td>1.576261</td>\n",
       "    </tr>\n",
       "    <tr>\n",
       "      <th>경북 영천시</th>\n",
       "      <td>1.173145</td>\n",
       "    </tr>\n",
       "    <tr>\n",
       "      <th>대구 서구</th>\n",
       "      <td>0.979335</td>\n",
       "    </tr>\n",
       "    <tr>\n",
       "      <th>...</th>\n",
       "      <td>...</td>\n",
       "    </tr>\n",
       "    <tr>\n",
       "      <th>충북 진천군</th>\n",
       "      <td>0.002218</td>\n",
       "    </tr>\n",
       "    <tr>\n",
       "      <th>전남 곡성군</th>\n",
       "      <td>0.001775</td>\n",
       "    </tr>\n",
       "    <tr>\n",
       "      <th>전북 김제시</th>\n",
       "      <td>0.001082</td>\n",
       "    </tr>\n",
       "    <tr>\n",
       "      <th>세종 고운서길</th>\n",
       "      <td>0.000841</td>\n",
       "    </tr>\n",
       "    <tr>\n",
       "      <th>전남 담양군</th>\n",
       "      <td>0.000580</td>\n",
       "    </tr>\n",
       "  </tbody>\n",
       "</table>\n",
       "<p>180 rows × 1 columns</p>\n",
       "</div>"
      ],
      "text/plain": [
       "         installment_term\n",
       "region                   \n",
       "충북 옥천군           2.123711\n",
       "전남 완도군           2.046990\n",
       "경기 과천시           1.576261\n",
       "경북 영천시           1.173145\n",
       "대구 서구            0.979335\n",
       "...                   ...\n",
       "충북 진천군           0.002218\n",
       "전남 곡성군           0.001775\n",
       "전북 김제시           0.001082\n",
       "세종 고운서길          0.000841\n",
       "전남 담양군           0.000580\n",
       "\n",
       "[180 rows x 1 columns]"
      ]
     },
     "execution_count": 384,
     "metadata": {},
     "output_type": "execute_result"
    }
   ],
   "source": [
    "region2 = df[['region','installment_term']].groupby('region').mean()\n",
    "region2.sort_values(by = 'installment_term',ascending = False)"
   ]
  },
  {
   "cell_type": "code",
   "execution_count": 385,
   "metadata": {
    "scrolled": true
   },
   "outputs": [
    {
     "data": {
      "text/plain": [
       "<AxesSubplot:>"
      ]
     },
     "execution_count": 385,
     "metadata": {},
     "output_type": "execute_result"
    },
    {
     "data": {
      "image/png": "[encoded data removed]",
      "text/plain": [
       "<Figure size 432x288 with 1 Axes>"
      ]
     },
     "metadata": {
      "needs_background": "light"
     },
     "output_type": "display_data"
    }
   ],
   "source": [
    "region2.plot.box()"
   ]
  },
  {
   "cell_type": "markdown",
   "metadata": {},
   "source": [
    "- 지역별로 평균 할부 개월 수에 차이가 있으며 결제액보다 그 차이가 크다"
   ]
  },
  {
   "cell_type": "code",
   "execution_count": 386,
   "metadata": {
    "scrolled": true
   },
   "outputs": [
    {
     "data": {
      "text/html": [
       "<div>\n",
       "<style scoped>\n",
       "    .dataframe tbody tr th:only-of-type {\n",
       "        vertical-align: middle;\n",
       "    }\n",
       "\n",
       "    .dataframe tbody tr th {\n",
       "        vertical-align: top;\n",
       "    }\n",
       "\n",
       "    .dataframe thead th {\n",
       "        text-align: right;\n",
       "    }\n",
       "</style>\n",
       "<table border=\"1\" class=\"dataframe\">\n",
       "  <thead>\n",
       "    <tr style=\"text-align: right;\">\n",
       "      <th></th>\n",
       "      <th>visit_counts</th>\n",
       "      <th>amount</th>\n",
       "    </tr>\n",
       "    <tr>\n",
       "      <th>store_id</th>\n",
       "      <th></th>\n",
       "      <th></th>\n",
       "    </tr>\n",
       "  </thead>\n",
       "  <tbody>\n",
       "    <tr>\n",
       "      <th>0</th>\n",
       "      <td>4481</td>\n",
       "      <td>5394.883157</td>\n",
       "    </tr>\n",
       "    <tr>\n",
       "      <th>1</th>\n",
       "      <td>3782</td>\n",
       "      <td>970.027196</td>\n",
       "    </tr>\n",
       "    <tr>\n",
       "      <th>2</th>\n",
       "      <td>584</td>\n",
       "      <td>15142.123288</td>\n",
       "    </tr>\n",
       "    <tr>\n",
       "      <th>4</th>\n",
       "      <td>5830</td>\n",
       "      <td>5128.809115</td>\n",
       "    </tr>\n",
       "    <tr>\n",
       "      <th>5</th>\n",
       "      <td>1958</td>\n",
       "      <td>5547.315045</td>\n",
       "    </tr>\n",
       "    <tr>\n",
       "      <th>...</th>\n",
       "      <td>...</td>\n",
       "      <td>...</td>\n",
       "    </tr>\n",
       "    <tr>\n",
       "      <th>2132</th>\n",
       "      <td>6478</td>\n",
       "      <td>3493.964186</td>\n",
       "    </tr>\n",
       "    <tr>\n",
       "      <th>2133</th>\n",
       "      <td>6302</td>\n",
       "      <td>1751.849753</td>\n",
       "    </tr>\n",
       "    <tr>\n",
       "      <th>2134</th>\n",
       "      <td>2654</td>\n",
       "      <td>3069.894499</td>\n",
       "    </tr>\n",
       "    <tr>\n",
       "      <th>2135</th>\n",
       "      <td>3860</td>\n",
       "      <td>4701.350851</td>\n",
       "    </tr>\n",
       "    <tr>\n",
       "      <th>2136</th>\n",
       "      <td>8972</td>\n",
       "      <td>5673.242150</td>\n",
       "    </tr>\n",
       "  </tbody>\n",
       "</table>\n",
       "<p>1967 rows × 2 columns</p>\n",
       "</div>"
      ],
      "text/plain": [
       "          visit_counts        amount\n",
       "store_id                            \n",
       "0                 4481   5394.883157\n",
       "1                 3782    970.027196\n",
       "2                  584  15142.123288\n",
       "4                 5830   5128.809115\n",
       "5                 1958   5547.315045\n",
       "...                ...           ...\n",
       "2132              6478   3493.964186\n",
       "2133              6302   1751.849753\n",
       "2134              2654   3069.894499\n",
       "2135              3860   4701.350851\n",
       "2136              8972   5673.242150\n",
       "\n",
       "[1967 rows x 2 columns]"
      ]
     },
     "execution_count": 386,
     "metadata": {},
     "output_type": "execute_result"
    }
   ],
   "source": [
    "df1 = df[['store_id','transacted_date']].groupby('store_id').count()\n",
    "df2 = df[['store_id','amount']].groupby('store_id').mean()\n",
    "df3 = pd.concat([df1,df2] , axis = 1)\n",
    "df3.rename(columns = {'transacted_date':'visit_counts'})"
   ]
  },
  {
   "cell_type": "markdown",
   "metadata": {},
   "source": [
    "- 상점별 기간 내 총 고객 방문수와 평균 매출액"
   ]
  },
  {
   "cell_type": "code",
   "execution_count": 387,
   "metadata": {
    "scrolled": true
   },
   "outputs": [
    {
     "name": "stdout",
     "output_type": "stream",
     "text": [
      "<class 'pandas.core.frame.DataFrame'>\n",
      "RangeIndex: 6556613 entries, 0 to 6556612\n",
      "Data columns (total 9 columns):\n",
      " #   Column            Dtype  \n",
      "---  ------            -----  \n",
      " 0   store_id          int64  \n",
      " 1   card_id           int64  \n",
      " 2   card_company      object \n",
      " 3   transacted_date   object \n",
      " 4   transacted_time   object \n",
      " 5   installment_term  int64  \n",
      " 6   region            object \n",
      " 7   type_of_business  object \n",
      " 8   amount            float64\n",
      "dtypes: float64(1), int64(3), object(5)\n",
      "memory usage: 450.2+ MB\n"
     ]
    }
   ],
   "source": [
    "df.info()"
   ]
  },
  {
   "cell_type": "code",
   "execution_count": 388,
   "metadata": {},
   "outputs": [],
   "source": [
    "df['date']=df['transacted_date']+' '+df['transacted_time']\n",
    "df['date']=pd.to_datetime(df['date'])"
   ]
  },
  {
   "cell_type": "code",
   "execution_count": 389,
   "metadata": {},
   "outputs": [],
   "source": [
    "df.drop(['transacted_time','transacted_date'],axis =1,inplace = True)"
   ]
  },
  {
   "cell_type": "code",
   "execution_count": 390,
   "metadata": {},
   "outputs": [],
   "source": [
    "df.set_index('date', inplace=True)"
   ]
  },
  {
   "cell_type": "code",
   "execution_count": 391,
   "metadata": {},
   "outputs": [
    {
     "name": "stderr",
     "output_type": "stream",
     "text": [
      "100%|██████████████████████████████████████████████████████████████████████████████| 1967/1967 [00:33<00:00, 58.00it/s]\n"
     ]
    }
   ],
   "source": [
    "#월별로 resample\n",
    "data_month=pd.DataFrame()\n",
    "for i in tqdm(df.store_id.unique()):\n",
    "    data_num=df[df.store_id==i]\n",
    "    sum_amount=data_num['amount'].resample(rule='m').sum()\n",
    "    data_mon=pd.concat([sum_amount],axis=1)\n",
    "    data_mon.insert(0,'store_id',i)\n",
    "    data_month=pd.concat([data_month,data_mon],axis=0)"
   ]
  },
  {
   "cell_type": "code",
   "execution_count": 392,
   "metadata": {},
   "outputs": [
    {
     "data": {
      "text/html": [
       "<div>\n",
       "<style scoped>\n",
       "    .dataframe tbody tr th:only-of-type {\n",
       "        vertical-align: middle;\n",
       "    }\n",
       "\n",
       "    .dataframe tbody tr th {\n",
       "        vertical-align: top;\n",
       "    }\n",
       "\n",
       "    .dataframe thead th {\n",
       "        text-align: right;\n",
       "    }\n",
       "</style>\n",
       "<table border=\"1\" class=\"dataframe\">\n",
       "  <thead>\n",
       "    <tr style=\"text-align: right;\">\n",
       "      <th></th>\n",
       "      <th>store_id</th>\n",
       "      <th>amount</th>\n",
       "    </tr>\n",
       "    <tr>\n",
       "      <th>date</th>\n",
       "      <th></th>\n",
       "      <th></th>\n",
       "    </tr>\n",
       "  </thead>\n",
       "  <tbody>\n",
       "    <tr>\n",
       "      <th>2016-06-30</th>\n",
       "      <td>0</td>\n",
       "      <td>7.470000e+05</td>\n",
       "    </tr>\n",
       "    <tr>\n",
       "      <th>2016-07-31</th>\n",
       "      <td>0</td>\n",
       "      <td>1.005000e+06</td>\n",
       "    </tr>\n",
       "    <tr>\n",
       "      <th>2016-08-31</th>\n",
       "      <td>0</td>\n",
       "      <td>8.715714e+05</td>\n",
       "    </tr>\n",
       "    <tr>\n",
       "      <th>2016-09-30</th>\n",
       "      <td>0</td>\n",
       "      <td>8.978571e+05</td>\n",
       "    </tr>\n",
       "    <tr>\n",
       "      <th>2016-10-31</th>\n",
       "      <td>0</td>\n",
       "      <td>8.354286e+05</td>\n",
       "    </tr>\n",
       "    <tr>\n",
       "      <th>...</th>\n",
       "      <td>...</td>\n",
       "      <td>...</td>\n",
       "    </tr>\n",
       "    <tr>\n",
       "      <th>2018-10-31</th>\n",
       "      <td>2136</td>\n",
       "      <td>2.012214e+06</td>\n",
       "    </tr>\n",
       "    <tr>\n",
       "      <th>2018-11-30</th>\n",
       "      <td>2136</td>\n",
       "      <td>2.135429e+06</td>\n",
       "    </tr>\n",
       "    <tr>\n",
       "      <th>2018-12-31</th>\n",
       "      <td>2136</td>\n",
       "      <td>2.427429e+06</td>\n",
       "    </tr>\n",
       "    <tr>\n",
       "      <th>2019-01-31</th>\n",
       "      <td>2136</td>\n",
       "      <td>1.873643e+06</td>\n",
       "    </tr>\n",
       "    <tr>\n",
       "      <th>2019-02-28</th>\n",
       "      <td>2136</td>\n",
       "      <td>2.227429e+06</td>\n",
       "    </tr>\n",
       "  </tbody>\n",
       "</table>\n",
       "<p>60915 rows × 2 columns</p>\n",
       "</div>"
      ],
      "text/plain": [
       "            store_id        amount\n",
       "date                              \n",
       "2016-06-30         0  7.470000e+05\n",
       "2016-07-31         0  1.005000e+06\n",
       "2016-08-31         0  8.715714e+05\n",
       "2016-09-30         0  8.978571e+05\n",
       "2016-10-31         0  8.354286e+05\n",
       "...              ...           ...\n",
       "2018-10-31      2136  2.012214e+06\n",
       "2018-11-30      2136  2.135429e+06\n",
       "2018-12-31      2136  2.427429e+06\n",
       "2019-01-31      2136  1.873643e+06\n",
       "2019-02-28      2136  2.227429e+06\n",
       "\n",
       "[60915 rows x 2 columns]"
      ]
     },
     "execution_count": 392,
     "metadata": {},
     "output_type": "execute_result"
    }
   ],
   "source": [
    "data_month"
   ]
  },
  {
   "cell_type": "code",
   "execution_count": 393,
   "metadata": {
    "scrolled": true
   },
   "outputs": [
    {
     "data": {
      "text/plain": [
       "[<matplotlib.lines.Line2D at 0x20f29339f40>]"
      ]
     },
     "execution_count": 393,
     "metadata": {},
     "output_type": "execute_result"
    },
    {
     "data": {
      "image/png": "[encoded data removed]",
      "text/plain": [
       "<Figure size 1080x216 with 1 Axes>"
      ]
     },
     "metadata": {
      "needs_background": "light"
     },
     "output_type": "display_data"
    },
    {
     "data": {
      "image/png": "[encoded data removed]",
      "text/plain": [
       "<Figure size 1080x216 with 1 Axes>"
      ]
     },
     "metadata": {
      "needs_background": "light"
     },
     "output_type": "display_data"
    },
    {
     "data": {
      "image/png": "[encoded data removed]",
      "text/plain": [
       "<Figure size 1080x216 with 1 Axes>"
      ]
     },
     "metadata": {
      "needs_background": "light"
     },
     "output_type": "display_data"
    }
   ],
   "source": [
    "plt.figure(figsize=(15, 3))\n",
    "plt.plot(data_month[data_month.store_id == 1].index, data_month[data_month.store_id == 1].amount)\n",
    "plt.figure(figsize=(15, 3))\n",
    "plt.plot(data_month[data_month.store_id == 5].index, data_month[data_month.store_id == 5].amount)\n",
    "plt.figure(figsize=(15, 3))\n",
    "plt.plot(data_month[data_month.store_id == 100].index, data_month[data_month.store_id == 100].amount)"
   ]
  },
  {
   "cell_type": "markdown",
   "metadata": {},
   "source": [
    "- 기간에 따른 몇몇의 상점 매출 변화"
   ]
  },
  {
   "cell_type": "code",
   "execution_count": 394,
   "metadata": {
    "scrolled": false
   },
   "outputs": [
    {
     "data": {
      "text/plain": [
       "store_id\n",
       "538     354632.638674\n",
       "1408    276625.139388\n",
       "57      220696.478745\n",
       "469     153436.040673\n",
       "603     150819.538148\n",
       "            ...      \n",
       "758        860.696755\n",
       "543        818.641635\n",
       "1235       790.367199\n",
       "1879       724.718956\n",
       "1250       609.430163\n",
       "Name: amount, Length: 1967, dtype: float64"
      ]
     },
     "execution_count": 394,
     "metadata": {},
     "output_type": "execute_result"
    }
   ],
   "source": [
    "df_first = df.groupby('store_id')['amount'].mean().sort_values(ascending = False)\n",
    "df_first"
   ]
  },
  {
   "cell_type": "code",
   "execution_count": 395,
   "metadata": {},
   "outputs": [
    {
     "data": {
      "text/plain": [
       "count      1967.000000\n",
       "mean      16245.321182\n",
       "std       22278.969462\n",
       "min         609.430163\n",
       "25%        4577.813854\n",
       "50%        8113.719547\n",
       "75%       18594.217450\n",
       "max      354632.638674\n",
       "Name: amount, dtype: float64"
      ]
     },
     "execution_count": 395,
     "metadata": {},
     "output_type": "execute_result"
    }
   ],
   "source": [
    "df_first.describe()"
   ]
  },
  {
   "cell_type": "code",
   "execution_count": 399,
   "metadata": {},
   "outputs": [
    {
     "data": {
      "text/plain": [
       "<AxesSubplot:xlabel='sido'>"
      ]
     },
     "execution_count": 399,
     "metadata": {},
     "output_type": "execute_result"
    },
    {
     "data": {
      "image/png": "[encoded data removed]",
      "text/plain": [
       "<Figure size 432x288 with 1 Axes>"
      ]
     },
     "metadata": {
      "needs_background": "light"
     },
     "output_type": "display_data"
    }
   ],
   "source": [
    "df['sido'] = df.region.str.split(' ').str[0]\n",
    "df_sido = df.groupby('sido')['amount'].mean()\n",
    "df_sido.plot.bar()"
   ]
  },
  {
   "cell_type": "markdown",
   "metadata": {},
   "source": [
    "- 시도별 평균 결제액"
   ]
  },
  {
   "cell_type": "code",
   "execution_count": 401,
   "metadata": {},
   "outputs": [
    {
     "data": {
      "text/plain": [
       "경기    968836\n",
       "서울    704437\n",
       "경남    406190\n",
       "부산    359042\n",
       "경북    262338\n",
       "충북    239796\n",
       "충남    217040\n",
       "대구    208424\n",
       "인천    192439\n",
       "강원    169791\n",
       "전북    143514\n",
       "대전    142478\n",
       "울산    124640\n",
       "전남    121978\n",
       "광주    118015\n",
       "제주    114671\n",
       "세종     20218\n",
       "Name: sido, dtype: int64"
      ]
     },
     "execution_count": 401,
     "metadata": {},
     "output_type": "execute_result"
    }
   ],
   "source": [
    "df.sido.value_counts().sort_values(ascending = False)"
   ]
  },
  {
   "cell_type": "code",
   "execution_count": null,
   "metadata": {},
   "outputs": [],
   "source": []
  }
 ],
 "metadata": {
  "kernelspec": {
   "display_name": "Python 3",
   "language": "python",
   "name": "python3"
  },
  "language_info": {
   "codemirror_mode": {
    "name": "ipython",
    "version": 3
   },
   "file_extension": ".py",
   "mimetype": "text/x-python",
   "name": "python",
   "nbconvert_exporter": "python",
   "pygments_lexer": "ipython3",
   "version": "3.8.5"
  },
  "toc": {
   "base_numbering": 1,
   "nav_menu": {},
   "number_sections": true,
   "sideBar": true,
   "skip_h1_title": false,
   "title_cell": "Table of Contents",
   "title_sidebar": "Contents",
   "toc_cell": false,
   "toc_position": {},
   "toc_section_display": true,
   "toc_window_display": false
  }
 },
 "nbformat": 4,
 "nbformat_minor": 4
}
