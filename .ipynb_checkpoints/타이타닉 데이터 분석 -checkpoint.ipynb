{
 "cells": [
  {
   "cell_type": "code",
   "execution_count": 119,
   "metadata": {},
   "outputs": [],
   "source": [
    "import numpy as np\n",
    "import pandas as pd\n",
    "import seaborn as sns\n",
    "import statsmodels.api as sm\n",
    "from matplotlib import pyplot as plt\n",
    "\n",
    "\n",
    "## 전처리\n",
    "from sklearn.model_selection import train_test_split #학습용 평가용 데이터 나누기\n",
    "from sklearn.preprocessing import StandardScaler #표준화 작업\n",
    "from sklearn.preprocessing import LabelEncoder # 인코딩\n",
    "\n",
    "## 알고리즘\n",
    "\n",
    "from sklearn.linear_model import LogisticRegression # 로지스틱 회귀모델\n",
    "import statsmodels.api as sm # 다중선형회귀분석\n",
    "from sklearn.tree import DecisionTreeClassifier # 의사결정나무분석\n",
    "from sklearn.neural_network import MLPClassifier ## 다층인공신경망\n",
    "## 검정\n",
    "\n",
    "from sklearn.metrics import confusion_matrix # 정오분류표\n",
    "from sklearn.metrics import accuracy_score, precision_score , recall_score , f1_score , roc_auc_score# 정확도 , 정밀도 , 재현율 , f1 , roc_aue\n",
    "\n",
    "## 최적화\n",
    "from sklearn.pipeline import make_pipeline , Pipeline\n",
    "from sklearn.model_selection import GridSearchCV"
   ]
  },
  {
   "cell_type": "code",
   "execution_count": 120,
   "metadata": {},
   "outputs": [],
   "source": [
    "titanic = pd.read_csv(\"d:/IBA 동아리/data/titanic/train.csv\")\n",
    "test = pd.read_csv(\"d:/IBA 동아리/data/titanic/test.csv\")"
   ]
  },
  {
   "cell_type": "markdown",
   "metadata": {},
   "source": [
    "## 데이터 \n",
    "1. survival - 생존여부 ( 0 = No, 1 = Yes )\n",
    "2. pclass - 티켓 등급 ( 1 = 1st, 2 = 2nd, 3 = 3rd )\n",
    "3. sex - 성별\n",
    "4. Age - 나이\n",
    "5. sibsp - 타이타닉에 승선한 형제자매 또는 배우자의 수\n",
    "6. parch - 타이타닉에 승선한 부모 - 자식의 수\n",
    "7. ticket - 티켓 번호\n",
    "8. fare - 승선 요금\n",
    "9. cabin - 선실 번호\n",
    "10. embarked - 승선 항구 이름 ( C = Cherbourg, Q = Queenstown, S = Southampton )"
   ]
  },
  {
   "cell_type": "markdown",
   "metadata": {},
   "source": [
    "## 데이터 탐색 및 전처리"
   ]
  },
  {
   "cell_type": "code",
   "execution_count": 121,
   "metadata": {},
   "outputs": [
    {
     "data": {
      "text/html": [
       "<div>\n",
       "<style scoped>\n",
       "    .dataframe tbody tr th:only-of-type {\n",
       "        vertical-align: middle;\n",
       "    }\n",
       "\n",
       "    .dataframe tbody tr th {\n",
       "        vertical-align: top;\n",
       "    }\n",
       "\n",
       "    .dataframe thead th {\n",
       "        text-align: right;\n",
       "    }\n",
       "</style>\n",
       "<table border=\"1\" class=\"dataframe\">\n",
       "  <thead>\n",
       "    <tr style=\"text-align: right;\">\n",
       "      <th></th>\n",
       "      <th>PassengerId</th>\n",
       "      <th>Survived</th>\n",
       "      <th>Pclass</th>\n",
       "      <th>Name</th>\n",
       "      <th>Sex</th>\n",
       "      <th>Age</th>\n",
       "      <th>SibSp</th>\n",
       "      <th>Parch</th>\n",
       "      <th>Ticket</th>\n",
       "      <th>Fare</th>\n",
       "      <th>Cabin</th>\n",
       "      <th>Embarked</th>\n",
       "    </tr>\n",
       "  </thead>\n",
       "  <tbody>\n",
       "    <tr>\n",
       "      <th>0</th>\n",
       "      <td>1</td>\n",
       "      <td>0</td>\n",
       "      <td>3</td>\n",
       "      <td>Braund, Mr. Owen Harris</td>\n",
       "      <td>male</td>\n",
       "      <td>22.0</td>\n",
       "      <td>1</td>\n",
       "      <td>0</td>\n",
       "      <td>A/5 21171</td>\n",
       "      <td>7.2500</td>\n",
       "      <td>NaN</td>\n",
       "      <td>S</td>\n",
       "    </tr>\n",
       "    <tr>\n",
       "      <th>1</th>\n",
       "      <td>2</td>\n",
       "      <td>1</td>\n",
       "      <td>1</td>\n",
       "      <td>Cumings, Mrs. John Bradley (Florence Briggs Th...</td>\n",
       "      <td>female</td>\n",
       "      <td>38.0</td>\n",
       "      <td>1</td>\n",
       "      <td>0</td>\n",
       "      <td>PC 17599</td>\n",
       "      <td>71.2833</td>\n",
       "      <td>C85</td>\n",
       "      <td>C</td>\n",
       "    </tr>\n",
       "    <tr>\n",
       "      <th>2</th>\n",
       "      <td>3</td>\n",
       "      <td>1</td>\n",
       "      <td>3</td>\n",
       "      <td>Heikkinen, Miss. Laina</td>\n",
       "      <td>female</td>\n",
       "      <td>26.0</td>\n",
       "      <td>0</td>\n",
       "      <td>0</td>\n",
       "      <td>STON/O2. 3101282</td>\n",
       "      <td>7.9250</td>\n",
       "      <td>NaN</td>\n",
       "      <td>S</td>\n",
       "    </tr>\n",
       "    <tr>\n",
       "      <th>3</th>\n",
       "      <td>4</td>\n",
       "      <td>1</td>\n",
       "      <td>1</td>\n",
       "      <td>Futrelle, Mrs. Jacques Heath (Lily May Peel)</td>\n",
       "      <td>female</td>\n",
       "      <td>35.0</td>\n",
       "      <td>1</td>\n",
       "      <td>0</td>\n",
       "      <td>113803</td>\n",
       "      <td>53.1000</td>\n",
       "      <td>C123</td>\n",
       "      <td>S</td>\n",
       "    </tr>\n",
       "    <tr>\n",
       "      <th>4</th>\n",
       "      <td>5</td>\n",
       "      <td>0</td>\n",
       "      <td>3</td>\n",
       "      <td>Allen, Mr. William Henry</td>\n",
       "      <td>male</td>\n",
       "      <td>35.0</td>\n",
       "      <td>0</td>\n",
       "      <td>0</td>\n",
       "      <td>373450</td>\n",
       "      <td>8.0500</td>\n",
       "      <td>NaN</td>\n",
       "      <td>S</td>\n",
       "    </tr>\n",
       "  </tbody>\n",
       "</table>\n",
       "</div>"
      ],
      "text/plain": [
       "   PassengerId  Survived  Pclass  \\\n",
       "0            1         0       3   \n",
       "1            2         1       1   \n",
       "2            3         1       3   \n",
       "3            4         1       1   \n",
       "4            5         0       3   \n",
       "\n",
       "                                                Name     Sex   Age  SibSp  \\\n",
       "0                            Braund, Mr. Owen Harris    male  22.0      1   \n",
       "1  Cumings, Mrs. John Bradley (Florence Briggs Th...  female  38.0      1   \n",
       "2                             Heikkinen, Miss. Laina  female  26.0      0   \n",
       "3       Futrelle, Mrs. Jacques Heath (Lily May Peel)  female  35.0      1   \n",
       "4                           Allen, Mr. William Henry    male  35.0      0   \n",
       "\n",
       "   Parch            Ticket     Fare Cabin Embarked  \n",
       "0      0         A/5 21171   7.2500   NaN        S  \n",
       "1      0          PC 17599  71.2833   C85        C  \n",
       "2      0  STON/O2. 3101282   7.9250   NaN        S  \n",
       "3      0            113803  53.1000  C123        S  \n",
       "4      0            373450   8.0500   NaN        S  "
      ]
     },
     "execution_count": 121,
     "metadata": {},
     "output_type": "execute_result"
    }
   ],
   "source": [
    "## 데이터 셋의 상위 5개 항목 출력\n",
    "titanic.head(5)"
   ]
  },
  {
   "cell_type": "code",
   "execution_count": 122,
   "metadata": {},
   "outputs": [
    {
     "data": {
      "text/html": [
       "<div>\n",
       "<style scoped>\n",
       "    .dataframe tbody tr th:only-of-type {\n",
       "        vertical-align: middle;\n",
       "    }\n",
       "\n",
       "    .dataframe tbody tr th {\n",
       "        vertical-align: top;\n",
       "    }\n",
       "\n",
       "    .dataframe thead th {\n",
       "        text-align: right;\n",
       "    }\n",
       "</style>\n",
       "<table border=\"1\" class=\"dataframe\">\n",
       "  <thead>\n",
       "    <tr style=\"text-align: right;\">\n",
       "      <th></th>\n",
       "      <th>PassengerId</th>\n",
       "      <th>Survived</th>\n",
       "      <th>Pclass</th>\n",
       "      <th>Age</th>\n",
       "      <th>SibSp</th>\n",
       "      <th>Parch</th>\n",
       "      <th>Fare</th>\n",
       "    </tr>\n",
       "  </thead>\n",
       "  <tbody>\n",
       "    <tr>\n",
       "      <th>count</th>\n",
       "      <td>891.000000</td>\n",
       "      <td>891.000000</td>\n",
       "      <td>891.000000</td>\n",
       "      <td>714.000000</td>\n",
       "      <td>891.000000</td>\n",
       "      <td>891.000000</td>\n",
       "      <td>891.000000</td>\n",
       "    </tr>\n",
       "    <tr>\n",
       "      <th>mean</th>\n",
       "      <td>446.000000</td>\n",
       "      <td>0.383838</td>\n",
       "      <td>2.308642</td>\n",
       "      <td>29.699118</td>\n",
       "      <td>0.523008</td>\n",
       "      <td>0.381594</td>\n",
       "      <td>32.204208</td>\n",
       "    </tr>\n",
       "    <tr>\n",
       "      <th>std</th>\n",
       "      <td>257.353842</td>\n",
       "      <td>0.486592</td>\n",
       "      <td>0.836071</td>\n",
       "      <td>14.526497</td>\n",
       "      <td>1.102743</td>\n",
       "      <td>0.806057</td>\n",
       "      <td>49.693429</td>\n",
       "    </tr>\n",
       "    <tr>\n",
       "      <th>min</th>\n",
       "      <td>1.000000</td>\n",
       "      <td>0.000000</td>\n",
       "      <td>1.000000</td>\n",
       "      <td>0.420000</td>\n",
       "      <td>0.000000</td>\n",
       "      <td>0.000000</td>\n",
       "      <td>0.000000</td>\n",
       "    </tr>\n",
       "    <tr>\n",
       "      <th>25%</th>\n",
       "      <td>223.500000</td>\n",
       "      <td>0.000000</td>\n",
       "      <td>2.000000</td>\n",
       "      <td>20.125000</td>\n",
       "      <td>0.000000</td>\n",
       "      <td>0.000000</td>\n",
       "      <td>7.910400</td>\n",
       "    </tr>\n",
       "    <tr>\n",
       "      <th>50%</th>\n",
       "      <td>446.000000</td>\n",
       "      <td>0.000000</td>\n",
       "      <td>3.000000</td>\n",
       "      <td>28.000000</td>\n",
       "      <td>0.000000</td>\n",
       "      <td>0.000000</td>\n",
       "      <td>14.454200</td>\n",
       "    </tr>\n",
       "    <tr>\n",
       "      <th>75%</th>\n",
       "      <td>668.500000</td>\n",
       "      <td>1.000000</td>\n",
       "      <td>3.000000</td>\n",
       "      <td>38.000000</td>\n",
       "      <td>1.000000</td>\n",
       "      <td>0.000000</td>\n",
       "      <td>31.000000</td>\n",
       "    </tr>\n",
       "    <tr>\n",
       "      <th>max</th>\n",
       "      <td>891.000000</td>\n",
       "      <td>1.000000</td>\n",
       "      <td>3.000000</td>\n",
       "      <td>80.000000</td>\n",
       "      <td>8.000000</td>\n",
       "      <td>6.000000</td>\n",
       "      <td>512.329200</td>\n",
       "    </tr>\n",
       "  </tbody>\n",
       "</table>\n",
       "</div>"
      ],
      "text/plain": [
       "       PassengerId    Survived      Pclass         Age       SibSp  \\\n",
       "count   891.000000  891.000000  891.000000  714.000000  891.000000   \n",
       "mean    446.000000    0.383838    2.308642   29.699118    0.523008   \n",
       "std     257.353842    0.486592    0.836071   14.526497    1.102743   \n",
       "min       1.000000    0.000000    1.000000    0.420000    0.000000   \n",
       "25%     223.500000    0.000000    2.000000   20.125000    0.000000   \n",
       "50%     446.000000    0.000000    3.000000   28.000000    0.000000   \n",
       "75%     668.500000    1.000000    3.000000   38.000000    1.000000   \n",
       "max     891.000000    1.000000    3.000000   80.000000    8.000000   \n",
       "\n",
       "            Parch        Fare  \n",
       "count  891.000000  891.000000  \n",
       "mean     0.381594   32.204208  \n",
       "std      0.806057   49.693429  \n",
       "min      0.000000    0.000000  \n",
       "25%      0.000000    7.910400  \n",
       "50%      0.000000   14.454200  \n",
       "75%      0.000000   31.000000  \n",
       "max      6.000000  512.329200  "
      ]
     },
     "execution_count": 122,
     "metadata": {},
     "output_type": "execute_result"
    }
   ],
   "source": [
    "## 데이터 셋의 각 필드 분포(평균,최소값,최대값 등)를 살펴보기\n",
    "titanic.describe()"
   ]
  },
  {
   "cell_type": "code",
   "execution_count": 123,
   "metadata": {},
   "outputs": [
    {
     "name": "stdout",
     "output_type": "stream",
     "text": [
      "<class 'pandas.core.frame.DataFrame'>\n",
      "RangeIndex: 891 entries, 0 to 890\n",
      "Data columns (total 12 columns):\n",
      " #   Column       Non-Null Count  Dtype  \n",
      "---  ------       --------------  -----  \n",
      " 0   PassengerId  891 non-null    int64  \n",
      " 1   Survived     891 non-null    int64  \n",
      " 2   Pclass       891 non-null    int64  \n",
      " 3   Name         891 non-null    object \n",
      " 4   Sex          891 non-null    object \n",
      " 5   Age          714 non-null    float64\n",
      " 6   SibSp        891 non-null    int64  \n",
      " 7   Parch        891 non-null    int64  \n",
      " 8   Ticket       891 non-null    object \n",
      " 9   Fare         891 non-null    float64\n",
      " 10  Cabin        204 non-null    object \n",
      " 11  Embarked     889 non-null    object \n",
      "dtypes: float64(2), int64(5), object(5)\n",
      "memory usage: 83.7+ KB\n"
     ]
    }
   ],
   "source": [
    "## 데이터 정보 확인 \n",
    "titanic.info()"
   ]
  },
  {
   "cell_type": "code",
   "execution_count": 124,
   "metadata": {},
   "outputs": [
    {
     "data": {
      "text/plain": [
       "PassengerId      0\n",
       "Survived         0\n",
       "Pclass           0\n",
       "Name             0\n",
       "Sex              0\n",
       "Age            177\n",
       "SibSp            0\n",
       "Parch            0\n",
       "Ticket           0\n",
       "Fare             0\n",
       "Cabin          687\n",
       "Embarked         2\n",
       "dtype: int64"
      ]
     },
     "execution_count": 124,
     "metadata": {},
     "output_type": "execute_result"
    }
   ],
   "source": [
    "titanic.isna().sum()"
   ]
  },
  {
   "cell_type": "code",
   "execution_count": 125,
   "metadata": {},
   "outputs": [
    {
     "data": {
      "text/plain": [
       "S    644\n",
       "C    168\n",
       "Q     77\n",
       "Name: Embarked, dtype: int64"
      ]
     },
     "execution_count": 125,
     "metadata": {},
     "output_type": "execute_result"
    }
   ],
   "source": [
    "titanic['Embarked'].value_counts()"
   ]
  },
  {
   "cell_type": "code",
   "execution_count": 126,
   "metadata": {},
   "outputs": [
    {
     "name": "stdout",
     "output_type": "stream",
     "text": [
      "생존한 사람의 수 : 342 \n",
      "사망한 사람의 수 : 549\n"
     ]
    }
   ],
   "source": [
    "##생존한사람, 사망한 사람의 수 확인하기\n",
    "survival = titanic['Survived'].sum()\n",
    "no_survival = titanic['Survived'].count().sum() - survival\n",
    "print(f\"생존한 사람의 수 : {survival} \")\n",
    "print(f\"사망한 사람의 수 : {no_survival}\")"
   ]
  },
  {
   "cell_type": "code",
   "execution_count": 127,
   "metadata": {},
   "outputs": [
    {
     "data": {
      "text/plain": [
       "0    549\n",
       "1    342\n",
       "Name: Survived, dtype: int64"
      ]
     },
     "execution_count": 127,
     "metadata": {},
     "output_type": "execute_result"
    }
   ],
   "source": [
    "##생존한사람, 사망한 사람의 수 확인하기\n",
    "titanic['Survived'].value_counts()"
   ]
  },
  {
   "cell_type": "code",
   "execution_count": 128,
   "metadata": {},
   "outputs": [
    {
     "data": {
      "text/plain": [
       "3    491\n",
       "1    216\n",
       "2    184\n",
       "Name: Pclass, dtype: int64"
      ]
     },
     "execution_count": 128,
     "metadata": {},
     "output_type": "execute_result"
    }
   ],
   "source": [
    "## 각 클래스 별 탑승객 분포 확인하기\n",
    "titanic['Pclass'].value_counts()"
   ]
  },
  {
   "cell_type": "code",
   "execution_count": 129,
   "metadata": {},
   "outputs": [
    {
     "data": {
      "text/plain": [
       "male      577\n",
       "female    314\n",
       "Name: Sex, dtype: int64"
      ]
     },
     "execution_count": 129,
     "metadata": {},
     "output_type": "execute_result"
    }
   ],
   "source": [
    "## 성('Sex')별 탑승객 분포 확인하기\n",
    "titanic['Sex'].value_counts()"
   ]
  },
  {
   "cell_type": "code",
   "execution_count": 130,
   "metadata": {},
   "outputs": [],
   "source": [
    "##'Embarked' 필드의 결측치는 값이 가장 많은 'S'로 할당하기\n",
    "titanic['Embarked'] = titanic['Embarked'].fillna('S')"
   ]
  },
  {
   "cell_type": "code",
   "execution_count": 131,
   "metadata": {},
   "outputs": [],
   "source": [
    "##'Age'필드의 결측치는 값이 중간값으로 할당하기\n",
    "titanic['Age'] = titanic['Age'].fillna(titanic['Age'].mean())"
   ]
  },
  {
   "cell_type": "code",
   "execution_count": 132,
   "metadata": {},
   "outputs": [
    {
     "data": {
      "text/plain": [
       "YoungAdult    373\n",
       "MiddleAged    195\n",
       "Youth         162\n",
       "Baby          139\n",
       "Senior         22\n",
       "Name: AgeGroup, dtype: int64"
      ]
     },
     "execution_count": 132,
     "metadata": {},
     "output_type": "execute_result"
    }
   ],
   "source": [
    "## 나이 필드를 그룹화하여 나누기\n",
    "bin = [0, 18, 25, 35, 60, 80]\n",
    "group_names = ['Baby', 'Youth', 'YoungAdult', 'MiddleAged', 'Senior']\n",
    "titanic['AgeGroup'] = pd.cut(titanic['Age'], bins=bin, labels=group_names)\n",
    "titanic['AgeGroup'].value_counts()"
   ]
  },
  {
   "cell_type": "markdown",
   "metadata": {},
   "source": [
    "## 데이터 시각화"
   ]
  },
  {
   "cell_type": "code",
   "execution_count": 133,
   "metadata": {},
   "outputs": [
    {
     "data": {
      "text/plain": [
       "<seaborn.axisgrid.FacetGrid at 0x1db762550d0>"
      ]
     },
     "execution_count": 133,
     "metadata": {},
     "output_type": "execute_result"
    },
    {
     "data": {
      "image/png": "[encoded data removed]",
      "text/plain": [
       "<Figure size 402.375x360 with 1 Axes>"
      ]
     },
     "metadata": {
      "needs_background": "light"
     },
     "output_type": "display_data"
    }
   ],
   "source": [
    "sns.catplot(x = 'Sex' , y = 'Survived' , hue = 'Pclass' , kind = 'bar' , data = titanic)"
   ]
  },
  {
   "cell_type": "markdown",
   "metadata": {},
   "source": [
    "모든 클래스에서 female이 생존 확률이 male보다 높은 걸 알 수 있다.\n",
    "또한 남자,여자 상관없이 클래스가 높을 수록 생존 확률이 높다"
   ]
  },
  {
   "cell_type": "code",
   "execution_count": 134,
   "metadata": {
    "scrolled": false
   },
   "outputs": [
    {
     "data": {
      "text/plain": [
       "<seaborn.axisgrid.FacetGrid at 0x1db78c96a30>"
      ]
     },
     "execution_count": 134,
     "metadata": {},
     "output_type": "execute_result"
    },
    {
     "data": {
      "image/png": "[encoded data removed]",
      "text/plain": [
       "<Figure size 430.5x360 with 1 Axes>"
      ]
     },
     "metadata": {
      "needs_background": "light"
     },
     "output_type": "display_data"
    }
   ],
   "source": [
    "sns.catplot(x = 'Pclass' , y = 'Survived' , hue = 'Sex' , kind = 'bar' , data = titanic)"
   ]
  },
  {
   "cell_type": "markdown",
   "metadata": {},
   "source": [
    "위와 마찬가지로 모든 클래스에서 여자가 더 살 확률이 높고, 클래스가 높을 수록 생존할 확률이 높다"
   ]
  },
  {
   "cell_type": "code",
   "execution_count": 135,
   "metadata": {
    "scrolled": false
   },
   "outputs": [
    {
     "name": "stderr",
     "output_type": "stream",
     "text": [
      "C:\\Users\\bbba2\\anaconda3\\lib\\site-packages\\seaborn\\categorical.py:3704: UserWarning: The `factorplot` function has been renamed to `catplot`. The original name will be removed in a future release. Please update your code. Note that the default `kind` in `factorplot` (`'point'`) has changed `'strip'` in `catplot`.\n",
      "  warnings.warn(msg)\n",
      "C:\\Users\\bbba2\\anaconda3\\lib\\site-packages\\seaborn\\_decorators.py:36: FutureWarning: Pass the following variables as keyword args: x, y. From version 0.12, the only valid positional argument will be `data`, and passing other arguments without an explicit keyword will result in an error or misinterpretation.\n",
      "  warnings.warn(\n"
     ]
    },
    {
     "data": {
      "text/plain": [
       "<seaborn.axisgrid.FacetGrid at 0x1db77c74f10>"
      ]
     },
     "execution_count": 135,
     "metadata": {},
     "output_type": "execute_result"
    },
    {
     "data": {
      "image/png": "[encoded data removed]",
      "text/plain": [
       "<Figure size 430.5x360 with 1 Axes>"
      ]
     },
     "metadata": {
      "needs_background": "light"
     },
     "output_type": "display_data"
    }
   ],
   "source": [
    "sns.factorplot('Pclass', 'Survived', hue='Sex', data= titanic)"
   ]
  },
  {
   "cell_type": "code",
   "execution_count": 136,
   "metadata": {
    "scrolled": true
   },
   "outputs": [
    {
     "data": {
      "text/plain": [
       "<AxesSubplot:xlabel='SibSp', ylabel='Survived'>"
      ]
     },
     "execution_count": 136,
     "metadata": {},
     "output_type": "execute_result"
    },
    {
     "data": {
      "image/png": "[encoded data removed]",
      "text/plain": [
       "<Figure size 432x288 with 1 Axes>"
      ]
     },
     "metadata": {
      "needs_background": "light"
     },
     "output_type": "display_data"
    }
   ],
   "source": [
    "sns.barplot(x = 'SibSp' , y = 'Survived'  , data = titanic)"
   ]
  },
  {
   "cell_type": "markdown",
   "metadata": {},
   "source": [
    "형제자매의 수가 1~2명 정도 있을 때, 생존할 확률이 높은 것을 알 수 있다."
   ]
  },
  {
   "cell_type": "code",
   "execution_count": 137,
   "metadata": {
    "scrolled": false
   },
   "outputs": [
    {
     "data": {
      "text/plain": [
       "<matplotlib.legend.Legend at 0x1db7757ae20>"
      ]
     },
     "execution_count": 137,
     "metadata": {},
     "output_type": "execute_result"
    },
    {
     "data": {
      "image/png": "[encoded data removed]",
      "text/plain": [
       "<Figure size 576x432 with 1 Axes>"
      ]
     },
     "metadata": {
      "needs_background": "light"
     },
     "output_type": "display_data"
    }
   ],
   "source": [
    "plt.figure(figsize=(8,6))\n",
    "titanic['Age'][titanic['Pclass']==1].plot(kind='kde')\n",
    "titanic['Age'][titanic['Pclass']==2].plot(kind='kde')\n",
    "titanic['Age'][titanic['Pclass']==3].plot(kind='kde')\n",
    "\n",
    "plt.xlabel('Age')\n",
    "plt.title('Age Distribution within classes')\n",
    "plt.legend(['1st Class', '2nd Class','3rd Class' ])"
   ]
  },
  {
   "cell_type": "markdown",
   "metadata": {},
   "source": [
    "확실히 알 수 있는건 클래스가 높을 수록 나이가 많은 사람의 비중이 커진다"
   ]
  },
  {
   "cell_type": "code",
   "execution_count": 138,
   "metadata": {
    "scrolled": true
   },
   "outputs": [
    {
     "data": {
      "text/plain": [
       "<AxesSubplot:xlabel='AgeGroup', ylabel='Survived'>"
      ]
     },
     "execution_count": 138,
     "metadata": {},
     "output_type": "execute_result"
    },
    {
     "data": {
      "image/png": "[encoded data removed]",
      "text/plain": [
       "<Figure size 432x288 with 1 Axes>"
      ]
     },
     "metadata": {
      "needs_background": "light"
     },
     "output_type": "display_data"
    }
   ],
   "source": [
    "sns.barplot(x = 'AgeGroup' , y = 'Survived' , hue = 'Pclass' , data = titanic)"
   ]
  },
  {
   "cell_type": "markdown",
   "metadata": {},
   "source": [
    "생존률은 나이가 0~18에 속하는 'Baby'집단이 제일 높다"
   ]
  },
  {
   "cell_type": "code",
   "execution_count": 139,
   "metadata": {
    "scrolled": true
   },
   "outputs": [
    {
     "data": {
      "text/plain": [
       "<AxesSubplot:xlabel='AgeGroup', ylabel='Survived'>"
      ]
     },
     "execution_count": 139,
     "metadata": {},
     "output_type": "execute_result"
    },
    {
     "data": {
      "image/png": "[encoded data removed]",
      "text/plain": [
       "<Figure size 432x288 with 1 Axes>"
      ]
     },
     "metadata": {
      "needs_background": "light"
     },
     "output_type": "display_data"
    }
   ],
   "source": [
    "sns.barplot(x = 'AgeGroup' , y = 'Survived' , hue = 'Sex' , data = titanic)"
   ]
  },
  {
   "cell_type": "markdown",
   "metadata": {},
   "source": [
    "모든 나이대에서 생존자의 성별 중 여자가 더 높다\n",
    "따라서, 여성과 아이를 먼저 챙긴 것으로 추측할 수 있다."
   ]
  },
  {
   "cell_type": "markdown",
   "metadata": {},
   "source": [
    "나이가 어릴 수록 생존률이 높은 것을 확인할 수 있다."
   ]
  },
  {
   "cell_type": "code",
   "execution_count": 140,
   "metadata": {},
   "outputs": [
    {
     "name": "stderr",
     "output_type": "stream",
     "text": [
      "C:\\Users\\bbba2\\anaconda3\\lib\\site-packages\\seaborn\\_decorators.py:36: FutureWarning: Pass the following variable as a keyword arg: x. From version 0.12, the only valid positional argument will be `data`, and passing other arguments without an explicit keyword will result in an error or misinterpretation.\n",
      "  warnings.warn(\n"
     ]
    },
    {
     "data": {
      "image/png": "[encoded data removed]",
      "text/plain": [
       "<Figure size 720x720 with 4 Axes>"
      ]
     },
     "metadata": {
      "needs_background": "light"
     },
     "output_type": "display_data"
    }
   ],
   "source": [
    "f ,ax = plt.subplots(2,2, figsize=(10,10))\n",
    "sns.countplot('Embarked', data=titanic, ax=ax[0,0])\n",
    "\n",
    "sns.countplot(x = 'Embarked', hue = 'Pclass' , data = titanic , ax=ax[0,1])\n",
    "\n",
    "sns.countplot(x = 'Embarked'  , hue = 'Sex' , data = titanic , ax=ax[1,0])\n",
    "\n",
    "sns.countplot(x = 'Embarked'  , hue = 'Survived' , data = titanic , ax=ax[1,1])\n",
    "\n",
    "\n",
    "plt.show()"
   ]
  },
  {
   "cell_type": "code",
   "execution_count": 141,
   "metadata": {
    "scrolled": true
   },
   "outputs": [
    {
     "data": {
      "text/plain": [
       "<AxesSubplot:xlabel='Embarked', ylabel='Survived'>"
      ]
     },
     "execution_count": 141,
     "metadata": {},
     "output_type": "execute_result"
    },
    {
     "data": {
      "image/png": "[encoded data removed]",
      "text/plain": [
       "<Figure size 432x288 with 1 Axes>"
      ]
     },
     "metadata": {
      "needs_background": "light"
     },
     "output_type": "display_data"
    }
   ],
   "source": [
    "sns.barplot(x = 'Embarked' , y = 'Survived' , hue = 'Pclass' , data = titanic)"
   ]
  },
  {
   "cell_type": "markdown",
   "metadata": {},
   "source": [
    "1. 전체적으로 S에 가장 많은 사람이 탑승함\n",
    "2. C와 Q는 남녀의 비율이 비슷하고 , S는 남자가 더 많다\n",
    "3. 생존확률이 S가 가장 낮다"
   ]
  },
  {
   "cell_type": "markdown",
   "metadata": {},
   "source": [
    "## 데이터 전처리"
   ]
  },
  {
   "cell_type": "markdown",
   "metadata": {},
   "source": [
    "- pd.Series.map() = 시리즈 내 값을 변환 할 때 사용하는 함수"
   ]
  },
  {
   "cell_type": "code",
   "execution_count": 142,
   "metadata": {},
   "outputs": [],
   "source": [
    "titanic['Sex'] = titanic['Sex'].map({'male': 0 , 'female':1})"
   ]
  },
  {
   "cell_type": "code",
   "execution_count": 143,
   "metadata": {},
   "outputs": [],
   "source": [
    "##'Age'필드의 결측치는 값이 중간값으로 할당하기\n",
    "titanic['Age'] = titanic['Age'].fillna(titanic['Age'].mean())"
   ]
  },
  {
   "cell_type": "code",
   "execution_count": 144,
   "metadata": {},
   "outputs": [],
   "source": [
    "##'Embarked' 필드의 결측치는 값이 가장 많은 'S'로 할당하기\n",
    "titanic['Embarked'] = titanic['Embarked'].fillna('S')"
   ]
  },
  {
   "cell_type": "code",
   "execution_count": 145,
   "metadata": {},
   "outputs": [
    {
     "data": {
      "text/plain": [
       "S    646\n",
       "C    168\n",
       "Q     77\n",
       "Name: Embarked, dtype: int64"
      ]
     },
     "execution_count": 145,
     "metadata": {},
     "output_type": "execute_result"
    }
   ],
   "source": [
    "titanic['Embarked'].value_counts()"
   ]
  },
  {
   "cell_type": "code",
   "execution_count": 146,
   "metadata": {},
   "outputs": [],
   "source": [
    "## 인코딩 사용해보기 class 컬럼에 대해 인코딩 실시\n",
    "le = LabelEncoder()\n",
    "titanic['Embarked'] = le.fit_transform(titanic['Embarked'])\n",
    "titanic['Embarked'] = titanic['Embarked'].replace(to_replace = [0,1,2] , value = [1,2,0])"
   ]
  },
  {
   "cell_type": "code",
   "execution_count": 147,
   "metadata": {},
   "outputs": [],
   "source": [
    "titanic.to_csv(\"d:/IBA 동아리/data/titanic/clean_train.csv\")"
   ]
  },
  {
   "cell_type": "code",
   "execution_count": 148,
   "metadata": {},
   "outputs": [],
   "source": [
    "X= titanic.drop(['Survived','Name','Ticket','Cabin','AgeGroup'], axis =1)\n",
    "y = titanic['Survived']"
   ]
  },
  {
   "cell_type": "code",
   "execution_count": 149,
   "metadata": {},
   "outputs": [
    {
     "data": {
      "text/html": [
       "<div>\n",
       "<style scoped>\n",
       "    .dataframe tbody tr th:only-of-type {\n",
       "        vertical-align: middle;\n",
       "    }\n",
       "\n",
       "    .dataframe tbody tr th {\n",
       "        vertical-align: top;\n",
       "    }\n",
       "\n",
       "    .dataframe thead th {\n",
       "        text-align: right;\n",
       "    }\n",
       "</style>\n",
       "<table border=\"1\" class=\"dataframe\">\n",
       "  <thead>\n",
       "    <tr style=\"text-align: right;\">\n",
       "      <th></th>\n",
       "      <th>PassengerId</th>\n",
       "      <th>Pclass</th>\n",
       "      <th>Sex</th>\n",
       "      <th>Age</th>\n",
       "      <th>SibSp</th>\n",
       "      <th>Parch</th>\n",
       "      <th>Fare</th>\n",
       "      <th>Embarked</th>\n",
       "    </tr>\n",
       "  </thead>\n",
       "  <tbody>\n",
       "    <tr>\n",
       "      <th>0</th>\n",
       "      <td>1</td>\n",
       "      <td>3</td>\n",
       "      <td>0</td>\n",
       "      <td>22.000000</td>\n",
       "      <td>1</td>\n",
       "      <td>0</td>\n",
       "      <td>7.2500</td>\n",
       "      <td>0</td>\n",
       "    </tr>\n",
       "    <tr>\n",
       "      <th>1</th>\n",
       "      <td>2</td>\n",
       "      <td>1</td>\n",
       "      <td>1</td>\n",
       "      <td>38.000000</td>\n",
       "      <td>1</td>\n",
       "      <td>0</td>\n",
       "      <td>71.2833</td>\n",
       "      <td>1</td>\n",
       "    </tr>\n",
       "    <tr>\n",
       "      <th>2</th>\n",
       "      <td>3</td>\n",
       "      <td>3</td>\n",
       "      <td>1</td>\n",
       "      <td>26.000000</td>\n",
       "      <td>0</td>\n",
       "      <td>0</td>\n",
       "      <td>7.9250</td>\n",
       "      <td>0</td>\n",
       "    </tr>\n",
       "    <tr>\n",
       "      <th>3</th>\n",
       "      <td>4</td>\n",
       "      <td>1</td>\n",
       "      <td>1</td>\n",
       "      <td>35.000000</td>\n",
       "      <td>1</td>\n",
       "      <td>0</td>\n",
       "      <td>53.1000</td>\n",
       "      <td>0</td>\n",
       "    </tr>\n",
       "    <tr>\n",
       "      <th>4</th>\n",
       "      <td>5</td>\n",
       "      <td>3</td>\n",
       "      <td>0</td>\n",
       "      <td>35.000000</td>\n",
       "      <td>0</td>\n",
       "      <td>0</td>\n",
       "      <td>8.0500</td>\n",
       "      <td>0</td>\n",
       "    </tr>\n",
       "    <tr>\n",
       "      <th>...</th>\n",
       "      <td>...</td>\n",
       "      <td>...</td>\n",
       "      <td>...</td>\n",
       "      <td>...</td>\n",
       "      <td>...</td>\n",
       "      <td>...</td>\n",
       "      <td>...</td>\n",
       "      <td>...</td>\n",
       "    </tr>\n",
       "    <tr>\n",
       "      <th>886</th>\n",
       "      <td>887</td>\n",
       "      <td>2</td>\n",
       "      <td>0</td>\n",
       "      <td>27.000000</td>\n",
       "      <td>0</td>\n",
       "      <td>0</td>\n",
       "      <td>13.0000</td>\n",
       "      <td>0</td>\n",
       "    </tr>\n",
       "    <tr>\n",
       "      <th>887</th>\n",
       "      <td>888</td>\n",
       "      <td>1</td>\n",
       "      <td>1</td>\n",
       "      <td>19.000000</td>\n",
       "      <td>0</td>\n",
       "      <td>0</td>\n",
       "      <td>30.0000</td>\n",
       "      <td>0</td>\n",
       "    </tr>\n",
       "    <tr>\n",
       "      <th>888</th>\n",
       "      <td>889</td>\n",
       "      <td>3</td>\n",
       "      <td>1</td>\n",
       "      <td>29.699118</td>\n",
       "      <td>1</td>\n",
       "      <td>2</td>\n",
       "      <td>23.4500</td>\n",
       "      <td>0</td>\n",
       "    </tr>\n",
       "    <tr>\n",
       "      <th>889</th>\n",
       "      <td>890</td>\n",
       "      <td>1</td>\n",
       "      <td>0</td>\n",
       "      <td>26.000000</td>\n",
       "      <td>0</td>\n",
       "      <td>0</td>\n",
       "      <td>30.0000</td>\n",
       "      <td>1</td>\n",
       "    </tr>\n",
       "    <tr>\n",
       "      <th>890</th>\n",
       "      <td>891</td>\n",
       "      <td>3</td>\n",
       "      <td>0</td>\n",
       "      <td>32.000000</td>\n",
       "      <td>0</td>\n",
       "      <td>0</td>\n",
       "      <td>7.7500</td>\n",
       "      <td>2</td>\n",
       "    </tr>\n",
       "  </tbody>\n",
       "</table>\n",
       "<p>891 rows × 8 columns</p>\n",
       "</div>"
      ],
      "text/plain": [
       "     PassengerId  Pclass  Sex        Age  SibSp  Parch     Fare  Embarked\n",
       "0              1       3    0  22.000000      1      0   7.2500         0\n",
       "1              2       1    1  38.000000      1      0  71.2833         1\n",
       "2              3       3    1  26.000000      0      0   7.9250         0\n",
       "3              4       1    1  35.000000      1      0  53.1000         0\n",
       "4              5       3    0  35.000000      0      0   8.0500         0\n",
       "..           ...     ...  ...        ...    ...    ...      ...       ...\n",
       "886          887       2    0  27.000000      0      0  13.0000         0\n",
       "887          888       1    1  19.000000      0      0  30.0000         0\n",
       "888          889       3    1  29.699118      1      2  23.4500         0\n",
       "889          890       1    0  26.000000      0      0  30.0000         1\n",
       "890          891       3    0  32.000000      0      0   7.7500         2\n",
       "\n",
       "[891 rows x 8 columns]"
      ]
     },
     "execution_count": 149,
     "metadata": {},
     "output_type": "execute_result"
    }
   ],
   "source": [
    "X"
   ]
  },
  {
   "cell_type": "code",
   "execution_count": 150,
   "metadata": {},
   "outputs": [
    {
     "data": {
      "text/plain": [
       "0    646\n",
       "1    168\n",
       "2     77\n",
       "Name: Embarked, dtype: int64"
      ]
     },
     "execution_count": 150,
     "metadata": {},
     "output_type": "execute_result"
    }
   ],
   "source": [
    "X['Embarked'].value_counts()"
   ]
  },
  {
   "cell_type": "code",
   "execution_count": 151,
   "metadata": {},
   "outputs": [],
   "source": [
    "titanic.to_csv(\"d:/IBA 동아리/data/titanic/clean_train.csv\")"
   ]
  },
  {
   "cell_type": "code",
   "execution_count": 152,
   "metadata": {
    "scrolled": false
   },
   "outputs": [
    {
     "data": {
      "text/html": [
       "<div>\n",
       "<style scoped>\n",
       "    .dataframe tbody tr th:only-of-type {\n",
       "        vertical-align: middle;\n",
       "    }\n",
       "\n",
       "    .dataframe tbody tr th {\n",
       "        vertical-align: top;\n",
       "    }\n",
       "\n",
       "    .dataframe thead th {\n",
       "        text-align: right;\n",
       "    }\n",
       "</style>\n",
       "<table border=\"1\" class=\"dataframe\">\n",
       "  <thead>\n",
       "    <tr style=\"text-align: right;\">\n",
       "      <th></th>\n",
       "      <th>PassengerId</th>\n",
       "      <th>Pclass</th>\n",
       "      <th>Sex</th>\n",
       "      <th>Age</th>\n",
       "      <th>SibSp</th>\n",
       "      <th>Parch</th>\n",
       "      <th>Fare</th>\n",
       "      <th>Embarked</th>\n",
       "    </tr>\n",
       "  </thead>\n",
       "  <tbody>\n",
       "    <tr>\n",
       "      <th>0</th>\n",
       "      <td>1</td>\n",
       "      <td>3</td>\n",
       "      <td>0</td>\n",
       "      <td>22.0</td>\n",
       "      <td>1</td>\n",
       "      <td>0</td>\n",
       "      <td>7.2500</td>\n",
       "      <td>0</td>\n",
       "    </tr>\n",
       "    <tr>\n",
       "      <th>1</th>\n",
       "      <td>2</td>\n",
       "      <td>1</td>\n",
       "      <td>1</td>\n",
       "      <td>38.0</td>\n",
       "      <td>1</td>\n",
       "      <td>0</td>\n",
       "      <td>71.2833</td>\n",
       "      <td>1</td>\n",
       "    </tr>\n",
       "    <tr>\n",
       "      <th>2</th>\n",
       "      <td>3</td>\n",
       "      <td>3</td>\n",
       "      <td>1</td>\n",
       "      <td>26.0</td>\n",
       "      <td>0</td>\n",
       "      <td>0</td>\n",
       "      <td>7.9250</td>\n",
       "      <td>0</td>\n",
       "    </tr>\n",
       "    <tr>\n",
       "      <th>3</th>\n",
       "      <td>4</td>\n",
       "      <td>1</td>\n",
       "      <td>1</td>\n",
       "      <td>35.0</td>\n",
       "      <td>1</td>\n",
       "      <td>0</td>\n",
       "      <td>53.1000</td>\n",
       "      <td>0</td>\n",
       "    </tr>\n",
       "    <tr>\n",
       "      <th>4</th>\n",
       "      <td>5</td>\n",
       "      <td>3</td>\n",
       "      <td>0</td>\n",
       "      <td>35.0</td>\n",
       "      <td>0</td>\n",
       "      <td>0</td>\n",
       "      <td>8.0500</td>\n",
       "      <td>0</td>\n",
       "    </tr>\n",
       "  </tbody>\n",
       "</table>\n",
       "</div>"
      ],
      "text/plain": [
       "   PassengerId  Pclass  Sex   Age  SibSp  Parch     Fare  Embarked\n",
       "0            1       3    0  22.0      1      0   7.2500         0\n",
       "1            2       1    1  38.0      1      0  71.2833         1\n",
       "2            3       3    1  26.0      0      0   7.9250         0\n",
       "3            4       1    1  35.0      1      0  53.1000         0\n",
       "4            5       3    0  35.0      0      0   8.0500         0"
      ]
     },
     "execution_count": 152,
     "metadata": {},
     "output_type": "execute_result"
    }
   ],
   "source": [
    "X.head()"
   ]
  },
  {
   "cell_type": "code",
   "execution_count": 154,
   "metadata": {},
   "outputs": [],
   "source": [
    "## 함수의 활성화\n",
    "stdsc = StandardScaler() "
   ]
  },
  {
   "cell_type": "code",
   "execution_count": 155,
   "metadata": {},
   "outputs": [
    {
     "name": "stderr",
     "output_type": "stream",
     "text": [
      "C:\\Users\\bbba2\\anaconda3\\lib\\site-packages\\pandas\\core\\indexing.py:1736: SettingWithCopyWarning: \n",
      "A value is trying to be set on a copy of a slice from a DataFrame.\n",
      "Try using .loc[row_indexer,col_indexer] = value instead\n",
      "\n",
      "See the caveats in the documentation: https://pandas.pydata.org/pandas-docs/stable/user_guide/indexing.html#returning-a-view-versus-a-copy\n",
      "  isetter(loc, value[:, i].tolist())\n",
      "C:\\Users\\bbba2\\anaconda3\\lib\\site-packages\\pandas\\core\\indexing.py:1736: SettingWithCopyWarning: \n",
      "A value is trying to be set on a copy of a slice from a DataFrame.\n",
      "Try using .loc[row_indexer,col_indexer] = value instead\n",
      "\n",
      "See the caveats in the documentation: https://pandas.pydata.org/pandas-docs/stable/user_guide/indexing.html#returning-a-view-versus-a-copy\n",
      "  isetter(loc, value[:, i].tolist())\n"
     ]
    }
   ],
   "source": [
    "X_train.iloc[:,:] = stdsc.fit_transform(X_train.iloc[:,:])\n",
    "X_test.iloc[:,:] = stdsc.transform(X_test.iloc[:,:])"
   ]
  },
  {
   "cell_type": "markdown",
   "metadata": {},
   "source": [
    "### 첫번째 모델 로지스틱회귀 방식"
   ]
  },
  {
   "cell_type": "code",
   "execution_count": 156,
   "metadata": {},
   "outputs": [
    {
     "data": {
      "text/plain": [
       "LogisticRegression(C=0.001, random_state=1, solver='liblinear')"
      ]
     },
     "execution_count": 156,
     "metadata": {},
     "output_type": "execute_result"
    }
   ],
   "source": [
    "model = LogisticRegression(solver = 'liblinear',penalty = 'l2' , C =0.001,random_state = 1) # penarl 소문자 ㅣ \n",
    "model.fit(X_train,y_train) # 학습시키기"
   ]
  },
  {
   "cell_type": "code",
   "execution_count": 157,
   "metadata": {},
   "outputs": [],
   "source": [
    "y_pred = model.predict(X_test)\n",
    "y_test\n",
    "\n",
    "y_pred_p = model.predict_proba(X_test)"
   ]
  },
  {
   "cell_type": "code",
   "execution_count": 158,
   "metadata": {},
   "outputs": [
    {
     "name": "stdout",
     "output_type": "stream",
     "text": [
      "[[0.5620765  0.4379235 ]\n",
      " [0.53883448 0.46116552]\n",
      " [0.54692348 0.45307652]\n",
      " [0.49368341 0.50631659]\n",
      " [0.51283901 0.48716099]\n",
      " [0.5330613  0.4669387 ]\n",
      " [0.5710226  0.4289774 ]\n",
      " [0.47540463 0.52459537]\n",
      " [0.4664173  0.5335827 ]\n",
      " [0.56819606 0.43180394]\n",
      " [0.53963689 0.46036311]\n",
      " [0.5716546  0.4283454 ]\n",
      " [0.4171889  0.5828111 ]\n",
      " [0.37762891 0.62237109]\n",
      " [0.54647138 0.45352862]\n",
      " [0.55768362 0.44231638]\n",
      " [0.49732772 0.50267228]\n",
      " [0.56298636 0.43701364]\n",
      " [0.56279074 0.43720926]\n",
      " [0.56287755 0.43712245]\n",
      " [0.50345174 0.49654826]\n",
      " [0.53849225 0.46150775]\n",
      " [0.42255195 0.57744805]\n",
      " [0.48513009 0.51486991]\n",
      " [0.4504431  0.5495569 ]\n",
      " [0.46829772 0.53170228]\n",
      " [0.56713041 0.43286959]\n",
      " [0.55441007 0.44558993]\n",
      " [0.56182343 0.43817657]\n",
      " [0.56460806 0.43539194]\n",
      " [0.52694655 0.47305345]\n",
      " [0.47435342 0.52564658]\n",
      " [0.56672993 0.43327007]\n",
      " [0.505688   0.494312  ]\n",
      " [0.47455144 0.52544856]\n",
      " [0.55847267 0.44152733]\n",
      " [0.56690222 0.43309778]\n",
      " [0.41565627 0.58434373]\n",
      " [0.56422188 0.43577812]\n",
      " [0.55725523 0.44274477]\n",
      " [0.51045147 0.48954853]\n",
      " [0.5637251  0.4362749 ]\n",
      " [0.50249162 0.49750838]\n",
      " [0.41376863 0.58623137]\n",
      " [0.5419651  0.4580349 ]\n",
      " [0.49594927 0.50405073]\n",
      " [0.55121227 0.44878773]\n",
      " [0.54901036 0.45098964]\n",
      " [0.49637794 0.50362206]\n",
      " [0.56643662 0.43356338]\n",
      " [0.46084181 0.53915819]\n",
      " [0.49511853 0.50488147]\n",
      " [0.51227603 0.48772397]\n",
      " [0.54196076 0.45803924]\n",
      " [0.48341659 0.51658341]\n",
      " [0.47688935 0.52311065]\n",
      " [0.51891089 0.48108911]\n",
      " [0.49763803 0.50236197]\n",
      " [0.46901575 0.53098425]\n",
      " [0.56181792 0.43818208]\n",
      " [0.56731715 0.43268285]\n",
      " [0.46996335 0.53003665]\n",
      " [0.56838351 0.43161649]\n",
      " [0.46326327 0.53673673]\n",
      " [0.37684718 0.62315282]\n",
      " [0.46922232 0.53077768]\n",
      " [0.54314075 0.45685925]\n",
      " [0.42040463 0.57959537]\n",
      " [0.55463919 0.44536081]\n",
      " [0.52767668 0.47232332]\n",
      " [0.56766068 0.43233932]\n",
      " [0.49704026 0.50295974]\n",
      " [0.56711527 0.43288473]\n",
      " [0.4607805  0.5392195 ]\n",
      " [0.49164008 0.50835992]\n",
      " [0.48854223 0.51145777]\n",
      " [0.43400296 0.56599704]\n",
      " [0.5628242  0.4371758 ]\n",
      " [0.52059075 0.47940925]\n",
      " [0.56560369 0.43439631]\n",
      " [0.56324687 0.43675313]\n",
      " [0.40682366 0.59317634]\n",
      " [0.50262302 0.49737698]\n",
      " [0.48155716 0.51844284]\n",
      " [0.53811565 0.46188435]\n",
      " [0.53941993 0.46058007]\n",
      " [0.49237015 0.50762985]\n",
      " [0.53818517 0.46181483]\n",
      " [0.51727405 0.48272595]\n",
      " [0.56805469 0.43194531]\n",
      " [0.55999375 0.44000625]\n",
      " [0.56313385 0.43686615]\n",
      " [0.47502712 0.52497288]\n",
      " [0.50720829 0.49279171]\n",
      " [0.49801132 0.50198868]\n",
      " [0.54454535 0.45545465]\n",
      " [0.50338142 0.49661858]\n",
      " [0.41151051 0.58848949]\n",
      " [0.56799794 0.43200206]\n",
      " [0.47146372 0.52853628]\n",
      " [0.50982841 0.49017159]\n",
      " [0.44973748 0.55026252]\n",
      " [0.52515524 0.47484476]\n",
      " [0.58075125 0.41924875]\n",
      " [0.46774369 0.53225631]\n",
      " [0.42912418 0.57087582]\n",
      " [0.55558671 0.44441329]\n",
      " [0.40417594 0.59582406]\n",
      " [0.56490984 0.43509016]\n",
      " [0.55407729 0.44592271]\n",
      " [0.46531188 0.53468812]\n",
      " [0.57047079 0.42952921]\n",
      " [0.30116278 0.69883722]\n",
      " [0.51406557 0.48593443]\n",
      " [0.48606495 0.51393505]\n",
      " [0.51139439 0.48860561]\n",
      " [0.54637292 0.45362708]\n",
      " [0.42801212 0.57198788]\n",
      " [0.56117359 0.43882641]\n",
      " [0.56224535 0.43775465]\n",
      " [0.48963931 0.51036069]\n",
      " [0.55431105 0.44568895]\n",
      " [0.49929279 0.50070721]\n",
      " [0.38824648 0.61175352]\n",
      " [0.56429807 0.43570193]\n",
      " [0.56697496 0.43302504]\n",
      " [0.48303424 0.51696576]\n",
      " [0.44536625 0.55463375]\n",
      " [0.52806675 0.47193325]\n",
      " [0.55056707 0.44943293]\n",
      " [0.56245867 0.43754133]\n",
      " [0.54694526 0.45305474]\n",
      " [0.54655079 0.45344921]\n",
      " [0.54620043 0.45379957]\n",
      " [0.39170132 0.60829868]\n",
      " [0.4769197  0.5230803 ]\n",
      " [0.55161894 0.44838106]\n",
      " [0.55248793 0.44751207]\n",
      " [0.55143726 0.44856274]\n",
      " [0.48861615 0.51138385]\n",
      " [0.54929506 0.45070494]\n",
      " [0.51364252 0.48635748]\n",
      " [0.51582945 0.48417055]\n",
      " [0.56008264 0.43991736]\n",
      " [0.47125021 0.52874979]\n",
      " [0.51986799 0.48013201]\n",
      " [0.4696894  0.5303106 ]\n",
      " [0.5638547  0.4361453 ]\n",
      " [0.51698955 0.48301045]\n",
      " [0.54802763 0.45197237]\n",
      " [0.51765647 0.48234353]\n",
      " [0.37867353 0.62132647]\n",
      " [0.56637428 0.43362572]\n",
      " [0.49844375 0.50155625]\n",
      " [0.56767048 0.43232952]\n",
      " [0.57008586 0.42991414]\n",
      " [0.52616578 0.47383422]\n",
      " [0.51069637 0.48930363]\n",
      " [0.54976175 0.45023825]\n",
      " [0.5668329  0.4331671 ]\n",
      " [0.4973599  0.5026401 ]\n",
      " [0.46587278 0.53412722]\n",
      " [0.56759423 0.43240577]\n",
      " [0.57335007 0.42664993]\n",
      " [0.47520012 0.52479988]\n",
      " [0.43780867 0.56219133]\n",
      " [0.46477967 0.53522033]\n",
      " [0.42156561 0.57843439]\n",
      " [0.54440948 0.45559052]\n",
      " [0.56859742 0.43140258]\n",
      " [0.53566587 0.46433413]\n",
      " [0.53816433 0.46183567]\n",
      " [0.53563502 0.46436498]\n",
      " [0.44803889 0.55196111]\n",
      " [0.56383941 0.43616059]\n",
      " [0.55853283 0.44146717]\n",
      " [0.47151667 0.52848333]\n",
      " [0.55974068 0.44025932]\n",
      " [0.56580421 0.43419579]\n",
      " [0.3728249  0.6271751 ]\n",
      " [0.54736272 0.45263728]\n",
      " [0.56202027 0.43797973]\n",
      " [0.49449927 0.50550073]\n",
      " [0.48281287 0.51718713]\n",
      " [0.55009143 0.44990857]\n",
      " [0.54623374 0.45376626]\n",
      " [0.56168313 0.43831687]\n",
      " [0.50294088 0.49705912]\n",
      " [0.54676618 0.45323382]\n",
      " [0.55840049 0.44159951]\n",
      " [0.51760446 0.48239554]\n",
      " [0.56325432 0.43674568]\n",
      " [0.57237974 0.42762026]\n",
      " [0.4676365  0.5323635 ]\n",
      " [0.56610962 0.43389038]\n",
      " [0.44184611 0.55815389]\n",
      " [0.56936673 0.43063327]\n",
      " [0.48823423 0.51176577]\n",
      " [0.52482073 0.47517927]\n",
      " [0.45722291 0.54277709]\n",
      " [0.56950532 0.43049468]\n",
      " [0.56602092 0.43397908]\n",
      " [0.56818571 0.43181429]\n",
      " [0.57776768 0.42223232]\n",
      " [0.42406539 0.57593461]\n",
      " [0.49172872 0.50827128]\n",
      " [0.51061055 0.48938945]\n",
      " [0.5460168  0.4539832 ]\n",
      " [0.5671897  0.4328103 ]\n",
      " [0.56843127 0.43156873]\n",
      " [0.56301997 0.43698003]\n",
      " [0.47463791 0.52536209]\n",
      " [0.55216932 0.44783068]\n",
      " [0.47522302 0.52477698]\n",
      " [0.57076879 0.42923121]\n",
      " [0.46250331 0.53749669]\n",
      " [0.4288737  0.5711263 ]\n",
      " [0.56391417 0.43608583]\n",
      " [0.52229651 0.47770349]\n",
      " [0.48157381 0.51842619]\n",
      " [0.55201098 0.44798902]\n",
      " [0.46435063 0.53564937]\n",
      " [0.5520379  0.4479621 ]\n",
      " [0.47231626 0.52768374]\n",
      " [0.56719417 0.43280583]\n",
      " [0.40931101 0.59068899]\n",
      " [0.54406079 0.45593921]\n",
      " [0.56792528 0.43207472]\n",
      " [0.52986394 0.47013606]\n",
      " [0.55350041 0.44649959]\n",
      " [0.56052425 0.43947575]\n",
      " [0.56268164 0.43731836]\n",
      " [0.36058559 0.63941441]\n",
      " [0.53500998 0.46499002]\n",
      " [0.49946193 0.50053807]\n",
      " [0.47281577 0.52718423]\n",
      " [0.47793447 0.52206553]\n",
      " [0.57405456 0.42594544]\n",
      " [0.37792659 0.62207341]\n",
      " [0.56719639 0.43280361]\n",
      " [0.48081085 0.51918915]\n",
      " [0.56356909 0.43643091]\n",
      " [0.54518314 0.45481686]\n",
      " [0.43112264 0.56887736]\n",
      " [0.4273384  0.5726616 ]\n",
      " [0.46936294 0.53063706]\n",
      " [0.55741464 0.44258536]\n",
      " [0.55069052 0.44930948]\n",
      " [0.56990138 0.43009862]\n",
      " [0.48137999 0.51862001]\n",
      " [0.56744214 0.43255786]\n",
      " [0.4985979  0.5014021 ]\n",
      " [0.54668503 0.45331497]\n",
      " [0.43655917 0.56344083]\n",
      " [0.51693437 0.48306563]\n",
      " [0.58336169 0.41663831]\n",
      " [0.5312527  0.4687473 ]\n",
      " [0.5712212  0.4287788 ]\n",
      " [0.51022872 0.48977128]\n",
      " [0.46724552 0.53275448]\n",
      " [0.56827346 0.43172654]\n",
      " [0.50282683 0.49717317]\n",
      " [0.41795988 0.58204012]\n",
      " [0.57093236 0.42906764]\n",
      " [0.56565979 0.43434021]\n",
      " [0.56210151 0.43789849]\n",
      " [0.53442405 0.46557595]\n",
      " [0.56867586 0.43132414]]\n"
     ]
    }
   ],
   "source": [
    "print(y_pred_p)"
   ]
  },
  {
   "cell_type": "code",
   "execution_count": 159,
   "metadata": {},
   "outputs": [
    {
     "data": {
      "text/html": [
       "<div>\n",
       "<style scoped>\n",
       "    .dataframe tbody tr th:only-of-type {\n",
       "        vertical-align: middle;\n",
       "    }\n",
       "\n",
       "    .dataframe tbody tr th {\n",
       "        vertical-align: top;\n",
       "    }\n",
       "\n",
       "    .dataframe thead th {\n",
       "        text-align: right;\n",
       "    }\n",
       "</style>\n",
       "<table border=\"1\" class=\"dataframe\">\n",
       "  <thead>\n",
       "    <tr style=\"text-align: right;\">\n",
       "      <th></th>\n",
       "      <th>0</th>\n",
       "      <th>1</th>\n",
       "    </tr>\n",
       "  </thead>\n",
       "  <tbody>\n",
       "    <tr>\n",
       "      <th>0</th>\n",
       "      <td>138</td>\n",
       "      <td>27</td>\n",
       "    </tr>\n",
       "    <tr>\n",
       "      <th>1</th>\n",
       "      <td>32</td>\n",
       "      <td>71</td>\n",
       "    </tr>\n",
       "  </tbody>\n",
       "</table>\n",
       "</div>"
      ],
      "text/plain": [
       "     0   1\n",
       "0  138  27\n",
       "1   32  71"
      ]
     },
     "execution_count": 159,
     "metadata": {},
     "output_type": "execute_result"
    }
   ],
   "source": [
    "pd.DataFrame(confusion_matrix(y_test, y_pred))"
   ]
  },
  {
   "cell_type": "code",
   "execution_count": 160,
   "metadata": {},
   "outputs": [
    {
     "name": "stdout",
     "output_type": "stream",
     "text": [
      "오분류 개수 : 59\n",
      "정확도 : 0.780\n",
      "정밀도 : 0.724\n",
      "재현율 : 0.689\n",
      "f1 : 0.706\n",
      "auc : 0.763\n"
     ]
    }
   ],
   "source": [
    "print(\"오분류 개수 : %d\" %(y_test != y_pred).sum())\n",
    "print(\"정확도 : %.3f\" %accuracy_score(y_test,y_pred))\n",
    "print(\"정밀도 : %.3f\" %precision_score(y_test,y_pred))\n",
    "print(\"재현율 : %.3f\" %recall_score(y_test,y_pred))\n",
    "print(\"f1 : %.3f\" %f1_score(y_test,y_pred))\n",
    "print(\"auc : %.3f\" %roc_auc_score(y_test,y_pred))"
   ]
  },
  {
   "cell_type": "code",
   "execution_count": 161,
   "metadata": {},
   "outputs": [],
   "source": [
    "logistic = LogisticRegression() #로지스틱 회귀 모델 객체 생성"
   ]
  },
  {
   "cell_type": "code",
   "execution_count": 162,
   "metadata": {},
   "outputs": [],
   "source": [
    "pipe_tree = make_pipeline(LogisticRegression())"
   ]
  },
  {
   "cell_type": "code",
   "execution_count": 163,
   "metadata": {},
   "outputs": [
    {
     "name": "stdout",
     "output_type": "stream",
     "text": [
      "(623, 8) (268, 8) (623,) (268,)\n"
     ]
    }
   ],
   "source": [
    "## 훈련셋 테스트 셋 나누기\n",
    "X_train,X_test,y_train,y_test = train_test_split(X,y,test_size = 0.3, random_state = 10 , stratify = y)\n",
    "print(X_train.shape , X_test.shape , y_train.shape , y_test.shape)"
   ]
  },
  {
   "cell_type": "code",
   "execution_count": 164,
   "metadata": {},
   "outputs": [],
   "source": [
    "penalty = ['l1','l2'] # 페널티 하이퍼파라미터 값의 후보를 만듭니다.\n",
    "C = np.logspace(0,4,10) # 규제 하이퍼파라미터 값의 후보 범위를 만듭니다.\n",
    "hyperparameters = dict(C=C , penalty = penalty)"
   ]
  },
  {
   "cell_type": "code",
   "execution_count": 165,
   "metadata": {},
   "outputs": [
    {
     "name": "stderr",
     "output_type": "stream",
     "text": [
      "C:\\Users\\bbba2\\anaconda3\\lib\\site-packages\\sklearn\\model_selection\\_search.py:922: UserWarning: One or more of the test scores are non-finite: [       nan 0.72441469        nan 0.71415134        nan 0.71566108\n",
      "        nan 0.71818823        nan 0.71407546        nan 0.71862091\n",
      "        nan 0.71700475        nan 0.72543429        nan 0.71892449\n",
      "        nan 0.71777148]\n",
      "  warnings.warn(\n",
      "C:\\Users\\bbba2\\anaconda3\\lib\\site-packages\\sklearn\\linear_model\\_logistic.py:763: ConvergenceWarning: lbfgs failed to converge (status=1):\n",
      "STOP: TOTAL NO. of ITERATIONS REACHED LIMIT.\n",
      "\n",
      "Increase the number of iterations (max_iter) or scale the data as shown in:\n",
      "    https://scikit-learn.org/stable/modules/preprocessing.html\n",
      "Please also refer to the documentation for alternative solver options:\n",
      "    https://scikit-learn.org/stable/modules/linear_model.html#logistic-regression\n",
      "  n_iter_i = _check_optimize_result(\n"
     ]
    },
    {
     "data": {
      "text/plain": [
       "GridSearchCV(cv=10, estimator=LogisticRegression(), n_jobs=-1,\n",
       "             param_grid={'C': array([1.00000000e+00, 2.78255940e+00, 7.74263683e+00, 2.15443469e+01,\n",
       "       5.99484250e+01, 1.66810054e+02, 4.64158883e+02, 1.29154967e+03,\n",
       "       3.59381366e+03, 1.00000000e+04]),\n",
       "                         'penalty': ['l1', 'l2']},\n",
       "             scoring='f1')"
      ]
     },
     "execution_count": 165,
     "metadata": {},
     "output_type": "execute_result"
    }
   ],
   "source": [
    "gridsearch = GridSearchCV(logistic, hyperparameters , cv = 10 , scoring = 'f1' , n_jobs = -1) # 그리그 서치 객체 생성\n",
    "gridsearch.fit(X_train,y_train)"
   ]
  },
  {
   "cell_type": "code",
   "execution_count": 166,
   "metadata": {},
   "outputs": [
    {
     "name": "stdout",
     "output_type": "stream",
     "text": [
      "fianl params {'C': 1291.5496650148827, 'penalty': 'l2'}\n",
      "best score 0.7254342946940052\n"
     ]
    }
   ],
   "source": [
    "##최적화 결과\n",
    "print('fianl params' , gridsearch.best_params_)\n",
    "print('best score' , gridsearch.best_score_)"
   ]
  },
  {
   "cell_type": "markdown",
   "metadata": {},
   "source": [
    "### 두번째 의사결정나무분석"
   ]
  },
  {
   "cell_type": "code",
   "execution_count": 167,
   "metadata": {},
   "outputs": [
    {
     "name": "stdout",
     "output_type": "stream",
     "text": [
      "(623, 8) (268, 8) (623,) (268,)\n"
     ]
    }
   ],
   "source": [
    "## 훈련셋 테스트 셋 나누기\n",
    "X_train,X_test,y_train,y_test = train_test_split(X,y,test_size = 0.3, random_state = 1 , stratify = y)\n",
    "print(X_train.shape, X_test.shape , y_train.shape , y_test.shape)"
   ]
  },
  {
   "cell_type": "code",
   "execution_count": 168,
   "metadata": {},
   "outputs": [
    {
     "name": "stderr",
     "output_type": "stream",
     "text": [
      "C:\\Users\\bbba2\\anaconda3\\lib\\site-packages\\pandas\\core\\indexing.py:1736: SettingWithCopyWarning: \n",
      "A value is trying to be set on a copy of a slice from a DataFrame.\n",
      "Try using .loc[row_indexer,col_indexer] = value instead\n",
      "\n",
      "See the caveats in the documentation: https://pandas.pydata.org/pandas-docs/stable/user_guide/indexing.html#returning-a-view-versus-a-copy\n",
      "  isetter(loc, value[:, i].tolist())\n",
      "C:\\Users\\bbba2\\anaconda3\\lib\\site-packages\\pandas\\core\\indexing.py:1736: SettingWithCopyWarning: \n",
      "A value is trying to be set on a copy of a slice from a DataFrame.\n",
      "Try using .loc[row_indexer,col_indexer] = value instead\n",
      "\n",
      "See the caveats in the documentation: https://pandas.pydata.org/pandas-docs/stable/user_guide/indexing.html#returning-a-view-versus-a-copy\n",
      "  isetter(loc, value[:, i].tolist())\n"
     ]
    }
   ],
   "source": [
    "## 모든 행과열에 대해 표준화\n",
    "stcsc = StandardScaler()\n",
    "\n",
    "X_train.iloc[:,:] = stcsc.fit_transform(X_train.iloc[:,:]) ## fit은 학습데이터에만 적용\n",
    "X_test.iloc[:,:] = stcsc.transform(X_test.iloc[:,:])"
   ]
  },
  {
   "cell_type": "code",
   "execution_count": 169,
   "metadata": {},
   "outputs": [
    {
     "data": {
      "text/plain": [
       "DecisionTreeClassifier(random_state=1)"
      ]
     },
     "execution_count": 169,
     "metadata": {},
     "output_type": "execute_result"
    }
   ],
   "source": [
    "## 분류나무모델만들기\n",
    "\n",
    "tree_m = DecisionTreeClassifier(criterion = 'gini',max_depth = None , random_state = 1)\n",
    "\n",
    "## 모델 학습\n",
    "tree_m.fit(X_train,y_train)"
   ]
  },
  {
   "cell_type": "code",
   "execution_count": 170,
   "metadata": {},
   "outputs": [],
   "source": [
    "##예측값 만들기\n",
    "\n",
    "y_pred = tree_m.predict(X_test)"
   ]
  },
  {
   "cell_type": "code",
   "execution_count": 171,
   "metadata": {},
   "outputs": [
    {
     "data": {
      "text/html": [
       "<div>\n",
       "<style scoped>\n",
       "    .dataframe tbody tr th:only-of-type {\n",
       "        vertical-align: middle;\n",
       "    }\n",
       "\n",
       "    .dataframe tbody tr th {\n",
       "        vertical-align: top;\n",
       "    }\n",
       "\n",
       "    .dataframe thead th {\n",
       "        text-align: right;\n",
       "    }\n",
       "</style>\n",
       "<table border=\"1\" class=\"dataframe\">\n",
       "  <thead>\n",
       "    <tr style=\"text-align: right;\">\n",
       "      <th></th>\n",
       "      <th>0</th>\n",
       "      <th>1</th>\n",
       "    </tr>\n",
       "  </thead>\n",
       "  <tbody>\n",
       "    <tr>\n",
       "      <th>0</th>\n",
       "      <td>138</td>\n",
       "      <td>27</td>\n",
       "    </tr>\n",
       "    <tr>\n",
       "      <th>1</th>\n",
       "      <td>36</td>\n",
       "      <td>67</td>\n",
       "    </tr>\n",
       "  </tbody>\n",
       "</table>\n",
       "</div>"
      ],
      "text/plain": [
       "     0   1\n",
       "0  138  27\n",
       "1   36  67"
      ]
     },
     "execution_count": 171,
     "metadata": {},
     "output_type": "execute_result"
    }
   ],
   "source": [
    "confmat = pd.DataFrame(confusion_matrix(y_test,y_pred))\n",
    "confmat"
   ]
  },
  {
   "cell_type": "code",
   "execution_count": 172,
   "metadata": {},
   "outputs": [
    {
     "name": "stdout",
     "output_type": "stream",
     "text": [
      "오분류 개수 : 63\n",
      "정확도 : 0.765\n",
      "정밀도 : 0.713\n",
      "재현율 : 0.650\n",
      "f1 : 0.680\n",
      "auc : 0.743\n"
     ]
    }
   ],
   "source": [
    "print(\"오분류 개수 : %d\" %(y_test != y_pred).sum())\n",
    "print(\"정확도 : %.3f\" %accuracy_score(y_test,y_pred))\n",
    "print(\"정밀도 : %.3f\" %precision_score(y_test,y_pred))\n",
    "print(\"재현율 : %.3f\" %recall_score(y_test,y_pred))\n",
    "print(\"f1 : %.3f\" %f1_score(y_test,y_pred))\n",
    "print(\"auc : %.3f\" %roc_auc_score(y_test,y_pred))"
   ]
  },
  {
   "cell_type": "code",
   "execution_count": 173,
   "metadata": {},
   "outputs": [],
   "source": [
    "pipe_tree = make_pipeline(DecisionTreeClassifier())"
   ]
  },
  {
   "cell_type": "code",
   "execution_count": 174,
   "metadata": {},
   "outputs": [
    {
     "data": {
      "text/plain": [
       "GridSearchCV(cv=5,\n",
       "             estimator=Pipeline(steps=[('decisiontreeclassifier',\n",
       "                                        DecisionTreeClassifier())]),\n",
       "             n_jobs=-1,\n",
       "             param_grid=[{'decisiontreeclassifier__criterion': ['gini',\n",
       "                                                                'entropy'],\n",
       "                          'decisiontreeclassifier__max_depth': [None, 3, 4, 5,\n",
       "                                                                6, 7, 8, 9,\n",
       "                                                                10],\n",
       "                          'decisiontreeclassifier__min_samples_leaf': [10, 20,\n",
       "                                                                       30, 40,\n",
       "                                                                       50]}],\n",
       "             scoring='f1')"
      ]
     },
     "execution_count": 174,
     "metadata": {},
     "output_type": "execute_result"
    }
   ],
   "source": [
    "## GridSearchCV를 최적화\n",
    "\n",
    "param_range1 = ['gini' , 'entropy']\n",
    "param_range2 = [None , 3,4,5,6,7,8,9,10]\n",
    "param_range3 = [10,20,30,40,50]\n",
    "\n",
    "param_grid = [{'decisiontreeclassifier__criterion' : param_range1,\n",
    "                'decisiontreeclassifier__max_depth' : param_range2,\n",
    "                 'decisiontreeclassifier__min_samples_leaf' : param_range3}]\n",
    "\n",
    "clf_cv = GridSearchCV(estimator = pipe_tree,\n",
    "            param_grid = param_grid,\n",
    "            scoring = 'f1' , #accuracy\n",
    "            n_jobs = -1,\n",
    "            cv = 5)\n",
    "\n",
    "clf_cv.fit(X_train , y_train)"
   ]
  },
  {
   "cell_type": "code",
   "execution_count": 175,
   "metadata": {},
   "outputs": [
    {
     "name": "stdout",
     "output_type": "stream",
     "text": [
      "0.738\n",
      "{'decisiontreeclassifier__criterion': 'entropy', 'decisiontreeclassifier__max_depth': 7, 'decisiontreeclassifier__min_samples_leaf': 10}\n"
     ]
    }
   ],
   "source": [
    "##최적화 결과\n",
    "print(clf_cv.best_score_.round(3))\n",
    "print(clf_cv.best_params_)"
   ]
  },
  {
   "cell_type": "code",
   "execution_count": null,
   "metadata": {},
   "outputs": [],
   "source": []
  }
 ],
 "metadata": {
  "kernelspec": {
   "display_name": "Python 3",
   "language": "python",
   "name": "python3"
  },
  "language_info": {
   "codemirror_mode": {
    "name": "ipython",
    "version": 3
   },
   "file_extension": ".py",
   "mimetype": "text/x-python",
   "name": "python",
   "nbconvert_exporter": "python",
   "pygments_lexer": "ipython3",
   "version": "3.8.5"
  },
  "toc": {
   "base_numbering": 1,
   "nav_menu": {},
   "number_sections": true,
   "sideBar": true,
   "skip_h1_title": false,
   "title_cell": "Table of Contents",
   "title_sidebar": "Contents",
   "toc_cell": false,
   "toc_position": {},
   "toc_section_display": true,
   "toc_window_display": false
  }
 },
 "nbformat": 4,
 "nbformat_minor": 4
}
