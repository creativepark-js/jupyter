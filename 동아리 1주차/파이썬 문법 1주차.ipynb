{
 "cells": [
  {
   "cell_type": "markdown",
   "metadata": {},
   "source": [
    "## 나이 계산"
   ]
  },
  {
   "cell_type": "code",
   "execution_count": 6,
   "metadata": {},
   "outputs": [
    {
     "name": "stdout",
     "output_type": "stream",
     "text": [
      "80/70/90\n",
      "국어,수학,영어의 평균 점수는 80점입니다\n"
     ]
    },
    {
     "ename": "TypeError",
     "evalue": "sum() takes at most 2 arguments (3 given)",
     "output_type": "error",
     "traceback": [
      "\u001b[1;31m---------------------------------------------------------------------------\u001b[0m",
      "\u001b[1;31mTypeError\u001b[0m                                 Traceback (most recent call last)",
      "\u001b[1;32m<ipython-input-6-71c50c1df09d>\u001b[0m in \u001b[0;36m<module>\u001b[1;34m\u001b[0m\n\u001b[0;32m      5\u001b[0m \u001b[1;31m##포맷팅 버전\u001b[0m\u001b[1;33m\u001b[0m\u001b[1;33m\u001b[0m\u001b[1;33m\u001b[0m\u001b[0m\n\u001b[0;32m      6\u001b[0m \u001b[1;33m\u001b[0m\u001b[0m\n\u001b[1;32m----> 7\u001b[1;33m \u001b[0mhap\u001b[0m \u001b[1;33m=\u001b[0m \u001b[0msum\u001b[0m\u001b[1;33m(\u001b[0m\u001b[0mkorean\u001b[0m\u001b[1;33m,\u001b[0m\u001b[0mmath\u001b[0m\u001b[1;33m,\u001b[0m\u001b[0menglish\u001b[0m\u001b[1;33m)\u001b[0m\u001b[1;33m\u001b[0m\u001b[1;33m\u001b[0m\u001b[0m\n\u001b[0m\u001b[0;32m      8\u001b[0m \u001b[0mprint\u001b[0m\u001b[1;33m(\u001b[0m\u001b[0mhap\u001b[0m\u001b[1;33m)\u001b[0m\u001b[1;33m\u001b[0m\u001b[1;33m\u001b[0m\u001b[0m\n\u001b[0;32m      9\u001b[0m \u001b[1;33m\u001b[0m\u001b[0m\n",
      "\u001b[1;31mTypeError\u001b[0m: sum() takes at most 2 arguments (3 given)"
     ]
    }
   ],
   "source": [
    "##2번문제\n",
    "korean , math , english = map(int,input().split('/'))\n",
    "print(\"국어,수학,영어의 평균 점수는 \" + str(int(((korean+math+english)/3)))+ \"점입니다\")\n",
    "\n",
    "##포맷팅 버전\n",
    "\n",
    "hap = korean+\n",
    "print(hap)\n",
    "\n"
   ]
  },
  {
   "cell_type": "code",
   "execution_count": 5,
   "metadata": {},
   "outputs": [
    {
     "name": "stdout",
     "output_type": "stream",
     "text": [
      "이름을 입력하세요: 철수,영희\n",
      "나이를 입력하세요: 10,20\n",
      "철수의 나이는 10살입니다\n",
      "영희의 나이는 20살입니다\n",
      "엄마의 나이는 28살입니다\n",
      "아빠의 나이는 40살입니다\n",
      "철수의 나이는 10살입니다\n"
     ]
    }
   ],
   "source": [
    "a1,b1 = input(\"이름을 입력하세요: \").split(',')\n",
    "c1,d1 = map(int,input(\"나이를 입력하세요: \").split(','))\n",
    "print(a1+\"의 나이는 \" +str(c1)+ \"살입니다\")\n",
    "print(b1+\"의 나이는 \" +str(d1)+ \"살입니다\")\n",
    "print(\"엄마의 나이는 \" + str((c1+d1)-2) + \"살입니다\")\n",
    "print(\"아빠의 나이는 \" + str(d1*2) + \"살입니다\")\n",
    "print(\"%s의 나이는 %d살입니다\"%(a1,c1))"
   ]
  },
  {
   "cell_type": "markdown",
   "metadata": {},
   "source": [
    "## 평균 출력"
   ]
  },
  {
   "cell_type": "code",
   "execution_count": 53,
   "metadata": {
    "scrolled": true
   },
   "outputs": [
    {
     "name": "stdout",
     "output_type": "stream",
     "text": [
      "66/66/68\n",
      "국어,수학,영어의 평균 점수는 66점입니다\n"
     ]
    }
   ],
   "source": [
    "korean , math , english = map(int,input().split('/'))\n",
    "print(\"국어,수학,영어의 평균 점수는 \" + str(int(((korean+math+english)/3)))+ \"점입니다\")"
   ]
  },
  {
   "cell_type": "markdown",
   "metadata": {},
   "source": [
    "## 시급 계산기"
   ]
  },
  {
   "cell_type": "code",
   "execution_count": 63,
   "metadata": {},
   "outputs": [
    {
     "name": "stdout",
     "output_type": "stream",
     "text": [
      "시급을 입력하세요: 6464\n",
      "A 학생의 월급은 904960원입니다\n"
     ]
    }
   ],
   "source": [
    "hour = int(input(\"시급을 입력하세요: \"))\n",
    "day = 4*hour + 2*1.5*hour\n",
    "weekly = 5*day\n",
    "salary = 4*weekly\n",
    "print(\"A 학생의 월급은 \" +str(int(salary))+\"원입니다\")"
   ]
  },
  {
   "cell_type": "markdown",
   "metadata": {},
   "source": [
    "##  리스트 생성"
   ]
  },
  {
   "cell_type": "code",
   "execution_count": 119,
   "metadata": {},
   "outputs": [
    {
     "name": "stdout",
     "output_type": "stream",
     "text": [
      "a,b,1,2,[c,d,3],(1, 2, 3)\n",
      "[1, 3, 5, 7, 9, 11, 13, 15, 17, 19, 21, 23, 25, 27, 29, 31, 33, 35, 37, 39, 41, 43, 45, 47, 49, 51, 53, 55, 57, 59, 61, 63, 65, 67, 69, 71, 73, 75, 77, 79, 81, 83, 85, 87, 89, 91, 93, 95, 97, 99]\n",
      "나누는 수와 나누어지는 수를 입력하세요: 3.7 50\n",
      "[3.7, 50.0, 13, 1]\n"
     ]
    }
   ],
   "source": [
    "##4.1\n",
    "d = (1,2,3)\n",
    "print(\"a\",\"b\",1,2,\"[c,d,3]\",d,sep = ',')\n",
    "\n",
    "##4.2\n",
    "x = list(range(1,100,2))\n",
    "print(x)\n",
    "\n",
    "##4.3\n",
    "a2,b2 = map(float,input(\"나누는 수와 나누어지는 수를 입력하세요: \").split())\n",
    "c2 = list((a2,b2,int(b2/a2),int(b2%a2)))\n",
    "print(c2)"
   ]
  },
  {
   "cell_type": "code",
   "execution_count": 16,
   "metadata": {},
   "outputs": [
    {
     "name": "stdout",
     "output_type": "stream",
     "text": [
      "\n",
      "\n",
      "| \\_\\ |\n",
      "  q  p  |     /}\n",
      "(  ⊙  )\"\"\" \\\n",
      "| \" ^ \"'     |\n",
      "| |_\\ = \\\\__ | \n",
      "\n"
     ]
    }
   ],
   "source": [
    "print('''\n",
    "\n",
    "| \\\\_\\\\ |\n",
    "  q  p  |     /}\n",
    "(  ⊙  )\"\"\" \\\\\n",
    "| \" ^ \"\\'     |\n",
    "| |_\\\\ = \\\\\\\\__ | \n",
    "''')"
   ]
  },
  {
   "cell_type": "code",
   "execution_count": 12,
   "metadata": {},
   "outputs": [
    {
     "name": "stdout",
     "output_type": "stream",
     "text": [
      "\\'\n"
     ]
    }
   ],
   "source": [
    "print(\"\\\\'\")"
   ]
  },
  {
   "cell_type": "code",
   "execution_count": 32,
   "metadata": {},
   "outputs": [
    {
     "name": "stdout",
     "output_type": "stream",
     "text": [
      "나누는 수와 나누어지는 수를 입력하세요:10 20\n",
      "[10, 20, 2, 0]\n"
     ]
    }
   ],
   "source": [
    "\n",
    "a,b = map(int,input(\"나누는 수와 나누어지는 수를 입력하세요:\").split())\n",
    "c = [a,b,int(b/a),int(b%a)]\n",
    "print(c)"
   ]
  },
  {
   "cell_type": "code",
   "execution_count": 52,
   "metadata": {},
   "outputs": [
    {
     "name": "stdout",
     "output_type": "stream",
     "text": [
      "['a', 'b', 1, ['c', 'd', 3], (1, 2, 3)]\n"
     ]
    }
   ],
   "source": [
    "i = [\"a\",\"b\",1,['c','d',3],(1,2,3)]\n",
    "print(i)"
   ]
  },
  {
   "cell_type": "code",
   "execution_count": null,
   "metadata": {},
   "outputs": [],
   "source": []
  }
 ],
 "metadata": {
  "kernelspec": {
   "display_name": "Python 3",
   "language": "python",
   "name": "python3"
  },
  "language_info": {
   "codemirror_mode": {
    "name": "ipython",
    "version": 3
   },
   "file_extension": ".py",
   "mimetype": "text/x-python",
   "name": "python",
   "nbconvert_exporter": "python",
   "pygments_lexer": "ipython3",
   "version": "3.8.5"
  },
  "toc": {
   "base_numbering": 1,
   "nav_menu": {},
   "number_sections": true,
   "sideBar": true,
   "skip_h1_title": false,
   "title_cell": "Table of Contents",
   "title_sidebar": "Contents",
   "toc_cell": false,
   "toc_position": {},
   "toc_section_display": true,
   "toc_window_display": false
  }
 },
 "nbformat": 4,
 "nbformat_minor": 4
}
